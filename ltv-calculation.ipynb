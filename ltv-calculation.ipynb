{
 "cells": [
  {
   "cell_type": "markdown",
   "metadata": {},
   "source": [
    "# What is the value of a customer?\n",
    "\n",
    "Exploring how we can classify a customer to som particular type.\n",
    "The plan of attack is to do some:\n",
    "\n",
    "1. Data exploration.\n",
    "2. Do PCA to explore distribution of variance.\n",
    "3. Explore outliers.\n",
    "4. Cluster using GMM on the transformed."
   ]
  },
  {
   "cell_type": "code",
   "execution_count": 1,
   "metadata": {
    "collapsed": true
   },
   "outputs": [],
   "source": [
    "# Import libraries necessary for this project\n",
    "import numpy as np\n",
    "import pandas as pd\n",
    "import seaborn as sns\n",
    "sns.set(font_scale=1.5) \n",
    "sns.set_style(\"white\")\n",
    "\n",
    "# Pretty display for notebooks\n",
    "import matplotlib\n",
    "import matplotlib.pyplot as plt\n",
    "%matplotlib inline\n",
    "import matplotlib.gridspec as grd\n",
    "import matplotlib.ticker as tkr\n",
    "import matplotlib.font_manager as font_manager\n",
    "\n",
    "from matplotlib.ticker import AutoMinorLocator\n",
    "from matplotlib.ticker import FuncFormatter\n",
    "from matplotlib import rcParams\n",
    "\n",
    "#define plotter\n",
    "minorLocatorx   = AutoMinorLocator(10)\n",
    "minorLocatory   = AutoMinorLocator(4)\n",
    "matplotlib.rc('xtick', labelsize=16) \n",
    "matplotlib.rc('ytick', labelsize=16) \n",
    "matplotlib.rcParams['axes.linewidth'] = 2.\n",
    "plt.rcParams['axes.linewidth'] = 4\n",
    "plt.rc('font', family='serif')\n",
    "plt.rc('font', serif='Times New Roman') \n",
    "fig_size = plt.rcParams[\"figure.figsize\"]\n",
    "fig_size[0] = 15\n",
    "fig_size[1] = 9\n",
    "plt.rcParams[\"figure.figsize\"] = fig_size\n",
    " "
   ]
  },
  {
   "cell_type": "code",
   "execution_count": 2,
   "metadata": {
    "collapsed": false
   },
   "outputs": [],
   "source": [
    "data = pd.read_csv('../ltv20160906_test.csv', delimiter='^')"
   ]
  },
  {
   "cell_type": "code",
   "execution_count": 3,
   "metadata": {
    "collapsed": false
   },
   "outputs": [],
   "source": [
    "data_80 = pd.read_csv('../ltv20160906_train.csv', delimiter='^')"
   ]
  },
  {
   "cell_type": "code",
   "execution_count": 4,
   "metadata": {
    "collapsed": false
   },
   "outputs": [],
   "source": [
    "data_all = pd.concat([data, data_80])"
   ]
  },
  {
   "cell_type": "code",
   "execution_count": 5,
   "metadata": {
    "collapsed": true
   },
   "outputs": [],
   "source": [
    "data_all['year'] = data_all['week'].apply(lambda y: int(y[0:4]))\n",
    "data_all['week_n'] = data_all['week'].apply(lambda y: int(y[-2:]))"
   ]
  },
  {
   "cell_type": "code",
   "execution_count": 19,
   "metadata": {
    "collapsed": false
   },
   "outputs": [],
   "source": [
    "dataUS = data_all[data_all.jobCountry == 'US']\n",
    "dataUS = dataUS.reset_index(drop=True)\n",
    "dataUS['costmillicent'] = dataUS.costmillicent/1e7"
   ]
  },
  {
   "cell_type": "code",
   "execution_count": 22,
   "metadata": {
    "collapsed": false
   },
   "outputs": [
    {
     "data": {
      "text/plain": [
       "Index([u'advertiserId', u'isDradisEmployer', u'salesTouched', u'week',\n",
       "       u'costmillicent', u'jobCountry', u'company', u'employeeCount',\n",
       "       u'dateCreated', u'firstRevenueDate', u'lastRevenueDate', u'isAdAgency',\n",
       "       u'industry', u'type', u'state', u'city', u'conversionTime',\n",
       "       u'hasDradisJob', u'sid', u'kw', u'outgoingEmail', u'outgoingCall',\n",
       "       u'advertiserAgeWeek', u'spendAgeWeek', u'spendAgeWeek_c',\n",
       "       u'advertiserAgeWeek_c', u'conversionTime_c', u'sales_touch', u'source',\n",
       "       u'year', u'week_n'],\n",
       "      dtype='object')"
      ]
     },
     "execution_count": 22,
     "metadata": {},
     "output_type": "execute_result"
    }
   ],
   "source": [
    "dataUS.columns"
   ]
  },
  {
   "cell_type": "markdown",
   "metadata": {
    "collapsed": false
   },
   "source": [
    "### Important Cols\n",
    "advertiserId\n",
    "week\n",
    "costmillicent"
   ]
  },
  {
   "cell_type": "code",
   "execution_count": 28,
   "metadata": {
    "collapsed": false
   },
   "outputs": [],
   "source": [
    "## Only consider these columns.\n",
    "columns = ['employeeCount', 'isDradisEmployer', 'salesTouched', 'employeeCount', 'isAdAgency', \n",
    "'industry', 'type', 'conversionTime_c', 'hasDradisJob', 'advertiserAgeWeek_c', 'advertiserAgeWeek_c',\n",
    "'sales_touch', 'source']"
   ]
  },
  {
   "cell_type": "code",
   "execution_count": 32,
   "metadata": {
    "collapsed": true
   },
   "outputs": [],
   "source": [
    "#Make dummies for categorical features.\n",
    "def preprocess_features(X):\n",
    "    ''' Preprocesses the student data and converts non-numeric binary variables into\n",
    "        binary (0/1) variables. Converts categorical variables into dummy variables. '''\n",
    "    \n",
    "    # Initialize new output DataFrame\n",
    "    output = pd.DataFrame(index = X.index)\n",
    "\n",
    "    # Investigate each feature column for the data\n",
    "    for col, col_data in X.iteritems():\n",
    "\n",
    "        # If data type is non-numeric, replace all yes/no values with 1/0\n",
    "        if col_data.dtype == object:\n",
    "            col_data = col_data.replace(['yes', 'no'], [1, 0])\n",
    "\n",
    "        # If data type is categorical, convert to dummy variables\n",
    "        if col_data.dtype == object:\n",
    "            # Example: 'GarageCond' => 'GarageCond_Ex', etc.\n",
    "            col_data = pd.get_dummies(col_data, prefix = col)  \n",
    "        \n",
    "        # Collect the revised columns\n",
    "        output = output.join(col_data)\n",
    "    \n",
    "    return output"
   ]
  },
  {
   "cell_type": "code",
   "execution_count": 30,
   "metadata": {
    "collapsed": true
   },
   "outputs": [],
   "source": [
    "def remove_nans(df):\n",
    "    nan_df = df[pd.isnull(df).any(axis=1)]\n",
    "    for col in nan_df.columns:\n",
    "        tmp = nan_df[col][pd.isnull(nan_df[col])]\n",
    "        if len(tmp) >= 1:\n",
    "            #print \"These features have NULLs to signify the absence of such a feature:\"\n",
    "            print col, len(tmp)\n",
    "            df[col] = df[col].fillna(0.)\n",
    "    print np.shape(df)\n",
    "    return df"
   ]
  },
  {
   "cell_type": "code",
   "execution_count": 29,
   "metadata": {
    "collapsed": true
   },
   "outputs": [],
   "source": [
    "## Define and remove repeat outliers\n",
    "def remove_outliers(df):\n",
    "    outliers  = []\n",
    "    for feature in df.columns:\n",
    "        \n",
    "        # Calculate Q1 (25th percentile of the data) for the given feature\n",
    "        Q1 = np.percentile(df[feature], 25)\n",
    "        \n",
    "        # Calculate Q3 (75th percentile of the data) for the given feature\n",
    "        Q3 = np.percentile(df[feature], 75)\n",
    "        \n",
    "        # Use the interquartile range to calculate an outlier step (1.5 times the interquartile range)\n",
    "        step = 1.5*(Q3-Q1)\n",
    "        \n",
    "        outliers = list(outliers + df[~((df[feature] >= Q1 - step) & \\\n",
    "                                                  (df[feature] <= Q3 + step))].index.tolist())\n",
    "    \n",
    "    # Select the indices for data points you wish to remove\n",
    "    from collections import Counter\n",
    "    counts = Counter(outliers)\n",
    "    outliers = sorted([value for value, count in counts.items() if count > 2])\n",
    "    return outliers"
   ]
  },
  {
   "cell_type": "code",
   "execution_count": null,
   "metadata": {
    "collapsed": false
   },
   "outputs": [
    {
     "name": "stdout",
     "output_type": "stream",
     "text": [
      "(2345667, 31)\n"
     ]
    }
   ],
   "source": [
    "# Remove NaNs\n",
    "data_clean = remove_nans(dataUS)\n",
    "data_clean = preprocess_features(dataUS)\n",
    "# Remove outliers\n",
    "outliers = remove_outliers(data)\n",
    "good_data = data_clean.drop(data_clean.index[outliers]).reset_index(drop = True)\n",
    "good_data_X = good_data.drop(['costmillicent'], axis =1)\n",
    "good_data_y =  good_data['costmillicent']\n",
    "print \"The dimensions of the data without outliers now is {}\".format(np.shape(good_data_X))\n"
   ]
  },
  {
   "cell_type": "code",
   "execution_count": 21,
   "metadata": {
    "collapsed": false
   },
   "outputs": [
    {
     "data": {
      "text/plain": [
       "(0, 3.0)"
      ]
     },
     "execution_count": 21,
     "metadata": {},
     "output_type": "execute_result"
    },
    {
     "data": {
      "image/png": "[encoded data removed]",
      "text/plain": [
       "<matplotlib.figure.Figure at 0x116203c90>"
      ]
     },
     "metadata": {},
     "output_type": "display_data"
    }
   ],
   "source": [
    "\n",
    "\n",
    "\n",
    "Q1 = np.percentile(dataUS['costmillicent'], 25)\n",
    "Q3 = np.percentile(dataUS['costmillicent'], 75)\n",
    "step = 1.5*(Q3-Q1)\n",
    "outliers = list(dataUS[~((dataUS['costmillicent'] >= Q1 - step) & \\\n",
    "                                                  (dataUS['costmillicent'] <= Q3 + step))].index.tolist())\n",
    "good_data = dataUS.drop(dataUS.index[outliers]).reset_index(drop = True)\n",
    "g = sns.FacetGrid(good_data, col=\"source\")  \n",
    "g.map(sns.distplot, \"costmillicent\")  \n",
    "plt.xlim(0,)"
   ]
  },
  {
   "cell_type": "code",
   "execution_count": 27,
   "metadata": {
    "collapsed": false
   },
   "outputs": [
    {
     "data": {
      "text/plain": [
       "{1,\n",
       " 2,\n",
       " 3,\n",
       " 4,\n",
       " 5,\n",
       " 6,\n",
       " 7,\n",
       " 8,\n",
       " 9,\n",
       " 10,\n",
       " 11,\n",
       " 12,\n",
       " 13,\n",
       " 14,\n",
       " 15,\n",
       " 16,\n",
       " 17,\n",
       " 18,\n",
       " 19,\n",
       " 20,\n",
       " 21,\n",
       " 22,\n",
       " 23,\n",
       " 24,\n",
       " 25,\n",
       " 26,\n",
       " 27,\n",
       " 28,\n",
       " 29,\n",
       " 30,\n",
       " 31,\n",
       " 32,\n",
       " 33,\n",
       " 34,\n",
       " 35,\n",
       " 36,\n",
       " 37,\n",
       " 38,\n",
       " 39,\n",
       " 40,\n",
       " 41,\n",
       " 42,\n",
       " 43,\n",
       " 44,\n",
       " 45,\n",
       " 46,\n",
       " 47,\n",
       " 48,\n",
       " 49,\n",
       " 50,\n",
       " 51,\n",
       " 52,\n",
       " 53}"
      ]
     },
     "execution_count": 27,
     "metadata": {},
     "output_type": "execute_result"
    }
   ],
   "source": [
    "set(dataUS.week_n)"
   ]
  },
  {
   "cell_type": "code",
   "execution_count": 49,
   "metadata": {
    "collapsed": false
   },
   "outputs": [
    {
     "data": {
      "text/plain": [
       "count    2.345667e+06\n",
       "mean     1.158276e+07\n",
       "std      3.228728e+07\n",
       "min      6.880000e+02\n",
       "25%      2.240000e+06\n",
       "50%      5.231000e+06\n",
       "75%      1.039000e+07\n",
       "max      2.132475e+09\n",
       "Name: costmillicent, dtype: float64"
      ]
     },
     "execution_count": 49,
     "metadata": {},
     "output_type": "execute_result"
    }
   ],
   "source": [
    "dataUS.costmillicent.describe()"
   ]
  },
  {
   "cell_type": "code",
   "execution_count": 16,
   "metadata": {
    "collapsed": false
   },
   "outputs": [
    {
     "data": {
      "text/html": [
       "<div>\n",
       "<table border=\"1\" class=\"dataframe\">\n",
       "  <thead>\n",
       "    <tr style=\"text-align: right;\">\n",
       "      <th></th>\n",
       "      <th>advertiserId</th>\n",
       "      <th>isDradisEmployer</th>\n",
       "      <th>salesTouched</th>\n",
       "      <th>week</th>\n",
       "      <th>costmillicent</th>\n",
       "      <th>jobCountry</th>\n",
       "      <th>company</th>\n",
       "      <th>employeeCount</th>\n",
       "      <th>dateCreated</th>\n",
       "      <th>firstRevenueDate</th>\n",
       "      <th>...</th>\n",
       "      <th>outgoingCall</th>\n",
       "      <th>advertiserAgeWeek</th>\n",
       "      <th>spendAgeWeek</th>\n",
       "      <th>spendAgeWeek_c</th>\n",
       "      <th>advertiserAgeWeek_c</th>\n",
       "      <th>conversionTime_c</th>\n",
       "      <th>sales_touch</th>\n",
       "      <th>source</th>\n",
       "      <th>year</th>\n",
       "      <th>week_n</th>\n",
       "    </tr>\n",
       "  </thead>\n",
       "  <tbody>\n",
       "    <tr>\n",
       "      <th>0</th>\n",
       "      <td>2505904</td>\n",
       "      <td>1</td>\n",
       "      <td>1</td>\n",
       "      <td>2015-06</td>\n",
       "      <td>1963000</td>\n",
       "      <td>US</td>\n",
       "      <td>Self</td>\n",
       "      <td>1-49</td>\n",
       "      <td>2015-02-01</td>\n",
       "      <td>2015-02-01</td>\n",
       "      <td>...</td>\n",
       "      <td>1</td>\n",
       "      <td>1</td>\n",
       "      <td>1</td>\n",
       "      <td>1</td>\n",
       "      <td>0</td>\n",
       "      <td>0</td>\n",
       "      <td>2</td>\n",
       "      <td>organic</td>\n",
       "      <td>2015</td>\n",
       "      <td>6</td>\n",
       "    </tr>\n",
       "    <tr>\n",
       "      <th>1</th>\n",
       "      <td>2505904</td>\n",
       "      <td>1</td>\n",
       "      <td>1</td>\n",
       "      <td>2015-05</td>\n",
       "      <td>493000</td>\n",
       "      <td>US</td>\n",
       "      <td>Self</td>\n",
       "      <td>1-49</td>\n",
       "      <td>2015-02-01</td>\n",
       "      <td>2015-02-01</td>\n",
       "      <td>...</td>\n",
       "      <td>0</td>\n",
       "      <td>0</td>\n",
       "      <td>0</td>\n",
       "      <td>0</td>\n",
       "      <td>0</td>\n",
       "      <td>0</td>\n",
       "      <td>0</td>\n",
       "      <td>organic</td>\n",
       "      <td>2015</td>\n",
       "      <td>5</td>\n",
       "    </tr>\n",
       "    <tr>\n",
       "      <th>2</th>\n",
       "      <td>2506921</td>\n",
       "      <td>1</td>\n",
       "      <td>1</td>\n",
       "      <td>2015-29</td>\n",
       "      <td>27870000</td>\n",
       "      <td>US</td>\n",
       "      <td>Central Medical Billing</td>\n",
       "      <td>1-49</td>\n",
       "      <td>2015-02-01</td>\n",
       "      <td>2015-02-02</td>\n",
       "      <td>...</td>\n",
       "      <td>0</td>\n",
       "      <td>24</td>\n",
       "      <td>23</td>\n",
       "      <td>23</td>\n",
       "      <td>0</td>\n",
       "      <td>1</td>\n",
       "      <td>0</td>\n",
       "      <td>organic</td>\n",
       "      <td>2015</td>\n",
       "      <td>29</td>\n",
       "    </tr>\n",
       "    <tr>\n",
       "      <th>3</th>\n",
       "      <td>2506921</td>\n",
       "      <td>1</td>\n",
       "      <td>1</td>\n",
       "      <td>2015-30</td>\n",
       "      <td>9487000</td>\n",
       "      <td>US</td>\n",
       "      <td>Central Medical Billing</td>\n",
       "      <td>1-49</td>\n",
       "      <td>2015-02-01</td>\n",
       "      <td>2015-02-02</td>\n",
       "      <td>...</td>\n",
       "      <td>0</td>\n",
       "      <td>25</td>\n",
       "      <td>24</td>\n",
       "      <td>24</td>\n",
       "      <td>0</td>\n",
       "      <td>1</td>\n",
       "      <td>0</td>\n",
       "      <td>organic</td>\n",
       "      <td>2015</td>\n",
       "      <td>30</td>\n",
       "    </tr>\n",
       "    <tr>\n",
       "      <th>4</th>\n",
       "      <td>2506921</td>\n",
       "      <td>1</td>\n",
       "      <td>1</td>\n",
       "      <td>2015-06</td>\n",
       "      <td>1155000</td>\n",
       "      <td>US</td>\n",
       "      <td>Central Medical Billing</td>\n",
       "      <td>1-49</td>\n",
       "      <td>2015-02-01</td>\n",
       "      <td>2015-02-02</td>\n",
       "      <td>...</td>\n",
       "      <td>0</td>\n",
       "      <td>1</td>\n",
       "      <td>0</td>\n",
       "      <td>0</td>\n",
       "      <td>0</td>\n",
       "      <td>1</td>\n",
       "      <td>0</td>\n",
       "      <td>organic</td>\n",
       "      <td>2015</td>\n",
       "      <td>6</td>\n",
       "    </tr>\n",
       "  </tbody>\n",
       "</table>\n",
       "<p>5 rows × 31 columns</p>\n",
       "</div>"
      ],
      "text/plain": [
       "   advertiserId  isDradisEmployer  salesTouched     week  costmillicent  \\\n",
       "0       2505904                 1             1  2015-06        1963000   \n",
       "1       2505904                 1             1  2015-05         493000   \n",
       "2       2506921                 1             1  2015-29       27870000   \n",
       "3       2506921                 1             1  2015-30        9487000   \n",
       "4       2506921                 1             1  2015-06        1155000   \n",
       "\n",
       "  jobCountry                  company employeeCount dateCreated  \\\n",
       "0         US                     Self          1-49  2015-02-01   \n",
       "1         US                     Self          1-49  2015-02-01   \n",
       "2         US  Central Medical Billing          1-49  2015-02-01   \n",
       "3         US  Central Medical Billing          1-49  2015-02-01   \n",
       "4         US  Central Medical Billing          1-49  2015-02-01   \n",
       "\n",
       "  firstRevenueDate  ...   outgoingCall  advertiserAgeWeek spendAgeWeek  \\\n",
       "0       2015-02-01  ...              1                  1            1   \n",
       "1       2015-02-01  ...              0                  0            0   \n",
       "2       2015-02-02  ...              0                 24           23   \n",
       "3       2015-02-02  ...              0                 25           24   \n",
       "4       2015-02-02  ...              0                  1            0   \n",
       "\n",
       "  spendAgeWeek_c advertiserAgeWeek_c conversionTime_c  sales_touch   source  \\\n",
       "0              1                   0                0            2  organic   \n",
       "1              0                   0                0            0  organic   \n",
       "2             23                   0                1            0  organic   \n",
       "3             24                   0                1            0  organic   \n",
       "4              0                   0                1            0  organic   \n",
       "\n",
       "   year week_n  \n",
       "0  2015      6  \n",
       "1  2015      5  \n",
       "2  2015     29  \n",
       "3  2015     30  \n",
       "4  2015      6  \n",
       "\n",
       "[5 rows x 31 columns]"
      ]
     },
     "execution_count": 16,
     "metadata": {},
     "output_type": "execute_result"
    }
   ],
   "source": [
    "dataUS.head()"
   ]
  },
  {
   "cell_type": "code",
   "execution_count": null,
   "metadata": {
    "collapsed": false
   },
   "outputs": [],
   "source": []
  },
  {
   "cell_type": "code",
   "execution_count": null,
   "metadata": {
    "collapsed": true
   },
   "outputs": [],
   "source": []
  }
 ],
 "metadata": {
  "kernelspec": {
   "display_name": "Python 2",
   "language": "python",
   "name": "python2"
  },
  "language_info": {
   "codemirror_mode": {
    "name": "ipython",
    "version": 2
   },
   "file_extension": ".py",
   "mimetype": "text/x-python",
   "name": "python",
   "nbconvert_exporter": "python",
   "pygments_lexer": "ipython2",
   "version": "2.7.6"
  }
 },
 "nbformat": 4,
 "nbformat_minor": 0
}

{
 "cells": [
  {
   "cell_type": "markdown",
   "metadata": {},
   "source": [
    "# What is the value of a customer?\n",
    "\n",
    "Exploring how we can classify a customer to some particular type.\n",
    "The plan of attack is to do some:\n",
    "\n",
    "1. Data exploration.\n",
    "2. Do PCA to explore distribution of variance.\n",
    "3. Explore outliers.\n",
    "4. Cluster using GMM on the transformed."
   ]
  },
  {
   "cell_type": "code",
   "execution_count": 2,
   "metadata": {
    "collapsed": false
   },
   "outputs": [],
   "source": [
    "# Import libraries necessary for this project\n",
    "import numpy as np\n",
    "import pandas as pd\n",
    "import seaborn as sns\n",
    "sns.set(font_scale=1.5) \n",
    "sns.set_style(\"white\")\n",
    "\n",
    "# Pretty display for notebooks\n",
    "import matplotlib\n",
    "import matplotlib.pyplot as plt\n",
    "%matplotlib inline\n",
    "import matplotlib.gridspec as grd\n",
    "import matplotlib.ticker as tkr\n",
    "import matplotlib.font_manager as font_manager\n",
    "\n",
    "from matplotlib.ticker import AutoMinorLocator\n",
    "from matplotlib.ticker import FuncFormatter\n",
    "from matplotlib import rcParams\n",
    "\n",
    "#define plotter\n",
    "minorLocatorx   = AutoMinorLocator(10)\n",
    "minorLocatory   = AutoMinorLocator(4)\n",
    "matplotlib.rc('xtick', labelsize=16) \n",
    "matplotlib.rc('ytick', labelsize=16) \n",
    "matplotlib.rcParams['axes.linewidth'] = 2.\n",
    "plt.rcParams['axes.linewidth'] = 4\n",
    "plt.rc('font', family='serif');\n",
    "plt.rc('font', serif='Times New Roman'); \n",
    "fig_size = plt.rcParams[\"figure.figsize\"]\n",
    "fig_size[0] = 15\n",
    "fig_size[1] = 9\n",
    "plt.rcParams[\"figure.figsize\"] = fig_size"
   ]
  },
  {
   "cell_type": "code",
   "execution_count": 3,
   "metadata": {
    "collapsed": false
   },
   "outputs": [],
   "source": [
    "# Read data\n",
    "data = pd.read_csv('./ltv20160906_test.csv', delimiter='^')\n",
    "data_80 = pd.read_csv('./ltv20160906_train.csv', delimiter='^')\n",
    "data_all = pd.concat([data, data_80])"
   ]
  },
  {
   "cell_type": "code",
   "execution_count": 5,
   "metadata": {
    "collapsed": false
   },
   "outputs": [],
   "source": []
  },
  {
   "cell_type": "code",
   "execution_count": 4,
   "metadata": {
    "collapsed": true
   },
   "outputs": [],
   "source": [
    "# convert week into year and week_number column \n",
    "data_all['year'] = data_all['week'].apply(lambda y: int(y[0:4]))\n",
    "data_all['week_number'] = data_all['week'].apply(lambda y: int(y[-2:]))"
   ]
  },
  {
   "cell_type": "code",
   "execution_count": 12,
   "metadata": {
    "collapsed": false
   },
   "outputs": [],
   "source": [
    "#consider only US and Dradis data\n",
    "#rescale costmillicent and then rename it\n",
    "dataUS = data_all[data_all.jobCountry == 'US']\n",
    "dataUS = dataUS[dataUS['isDradisEmployer']==1]\n",
    "dataUS = dataUS.reset_index(drop=True)\n",
    "dataUS['cost'] = dataUS.costmillicent/1e5"
   ]
  },
  {
   "cell_type": "code",
   "execution_count": 13,
   "metadata": {
    "collapsed": false
   },
   "outputs": [],
   "source": [
    "#compute week rank\n",
    "weekRank = dataUS.groupby('advertiserId')['week'].rank(ascending=True)"
   ]
  },
  {
   "cell_type": "code",
   "execution_count": 14,
   "metadata": {
    "collapsed": false
   },
   "outputs": [
    {
     "name": "stdout",
     "output_type": "stream",
     "text": [
      "(2284758, 32) (2284758,)\n"
     ]
    }
   ],
   "source": [
    "#sanity check\n",
    "print dataUS.shape, weekRank.shape"
   ]
  },
  {
   "cell_type": "code",
   "execution_count": 15,
   "metadata": {
    "collapsed": true
   },
   "outputs": [],
   "source": [
    "#add weekRank\n",
    "dataUS['week_rank'] = weekRank"
   ]
  },
  {
   "cell_type": "code",
   "execution_count": 16,
   "metadata": {
    "collapsed": false
   },
   "outputs": [
    {
     "name": "stdout",
     "output_type": "stream",
     "text": [
      "['0-', '1-49', '1000-', '150-249', '250-499', '50-149', '500-749', '750-999']\n"
     ]
    }
   ],
   "source": [
    "#clean employee count\n",
    "dataUS['employeeCount'] = dataUS['employeeCount'].apply(lambda y: '0-' if type(y)!=str else y.replace('+','-'))\n",
    "print sorted(dataUS.employeeCount.unique())\n",
    "dataUS['employeeCount'] = dataUS['employeeCount'].apply(lambda y: int(y[0:y.find('-')]))"
   ]
  },
  {
   "cell_type": "code",
   "execution_count": 17,
   "metadata": {
    "collapsed": true
   },
   "outputs": [],
   "source": [
    "# clean industry\n",
    "dataUS['industry'] = dataUS['industry'].apply(lambda y: 'Blank' if type(y)!=str else y)"
   ]
  },
  {
   "cell_type": "code",
   "execution_count": 22,
   "metadata": {
    "collapsed": false
   },
   "outputs": [
    {
     "name": "stdout",
     "output_type": "stream",
     "text": [
      "[1]\n"
     ]
    }
   ],
   "source": [
    "# check for double entries\n",
    "double = dataUS.groupby(['advertiserId','week']).count()\n",
    "print double.employeeCount.unique() # should be 1"
   ]
  },
  {
   "cell_type": "code",
   "execution_count": 23,
   "metadata": {
    "collapsed": false
   },
   "outputs": [
    {
     "data": {
      "text/plain": [
       "array(set([1, 2, 3, 4, 5, 6, 7, 8, 9, 10, 11, 12, 13, 14, 15, 16, 17, 18, 19, 20, 21, 22, 23, 24, 25, 26, 27, 28, 29, 30, 31, 32, 33, 34, 35, 36, 37, 38, 39, 40, 41, 42, 43, 44, 45, 46, 47, 48, 49, 50, 51, 52, 53, 54, 55, 56, 57, 58, 59, 60, 61, 62, 63, 64, 65, 66, 67, 68, 69, 70, 71, 72, 73, 74, 75, 76, 77, 78, 79, 80]), dtype=object)"
      ]
     },
     "execution_count": 23,
     "metadata": {},
     "output_type": "execute_result"
    }
   ],
   "source": [
    "# check how many weeks does advertiser spend\n",
    "np.array(set(dataUS.groupby('advertiserId')['week'].count().values))"
   ]
  },
  {
   "cell_type": "code",
   "execution_count": 27,
   "metadata": {
    "collapsed": false
   },
   "outputs": [
    {
     "name": "stdout",
     "output_type": "stream",
     "text": [
      "(2284758, 33)\n",
      "(2259871, 33)\n"
     ]
    }
   ],
   "source": [
    "# remove data points that does not make sense \n",
    "print dataUS.shape\n",
    "dataUS = dataUS[dataUS.week!='2016-53']\n",
    "print dataUS.shape"
   ]
  },
  {
   "cell_type": "code",
   "execution_count": 29,
   "metadata": {
    "collapsed": false
   },
   "outputs": [
    {
     "name": "stdout",
     "output_type": "stream",
     "text": [
      "spendAgeWeek_c values\n",
      "[-2, -1, 0, 1, 2, 3, 4, 5, 6, 7, 8, 9, 10, 11, 12, 13, 14, 15, 16, 17, 18, 19, 20, 21, 22, 23, 24, 25, 26, 27, 28, 29, 30, 31, 32, 33, 34, 35, 36, 37, 38, 39, 40, 41, 42, 43, 44, 45, 46, 47, 48, 49, 50, 51, 52, 53, 54, 55, 56, 57, 58, 59, 60, 61, 62, 63, 64, 65, 66, 67, 68, 69, 70, 71, 72, 73, 74, 75, 76, 77, 78, 79] 82\n",
      "Possible values for 'how many weeks an advertiser spend'\n",
      "set([1, 2, 3, 4, 5, 6, 7, 8, 9, 10, 11, 12, 13, 14, 15, 16, 17, 18, 19, 20, 21, 22, 23, 24, 25, 26, 27, 28, 29, 30, 31, 32, 33, 34, 35, 36, 37, 38, 39, 40, 41, 42, 43, 44, 45, 46, 47, 48, 49, 50, 51, 52, 53, 54, 55, 56, 57, 58, 59, 60, 61, 62, 63, 64, 65, 66, 67, 68, 69, 70, 71, 72, 73, 74, 75, 76, 77, 78, 79])\n"
     ]
    }
   ],
   "source": [
    "# Sanity check\n",
    "w = sorted(dataUS.spendAgeWeek_c.unique())\n",
    "print 'spendAgeWeek_c values'\n",
    "print w, len(w)\n",
    "print \"Possible values for 'how many weeks an advertiser spend'\"\n",
    "print np.array(set(dataUS.groupby('advertiserId')['week'].count().values))"
   ]
  },
  {
   "cell_type": "code",
   "execution_count": 30,
   "metadata": {
    "collapsed": true
   },
   "outputs": [],
   "source": [
    "#filter out SpendAgeWeek_c <0\n",
    "dataUS = dataUS[(dataUS['spendAgeWeek_c']<74)&(dataUS['spendAgeWeek_c']>=0)]"
   ]
  },
  {
   "cell_type": "code",
   "execution_count": 31,
   "metadata": {
    "collapsed": false
   },
   "outputs": [
    {
     "name": "stdout",
     "output_type": "stream",
     "text": [
      "spendAgeWeek_c values\n",
      "[0, 1, 2, 3, 4, 5, 6, 7, 8, 9, 10, 11, 12, 13, 14, 15, 16, 17, 18, 19, 20, 21, 22, 23, 24, 25, 26, 27, 28, 29, 30, 31, 32, 33, 34, 35, 36, 37, 38, 39, 40, 41, 42, 43, 44, 45, 46, 47, 48, 49, 50, 51, 52, 53, 54, 55, 56, 57, 58, 59, 60, 61, 62, 63, 64, 65, 66, 67, 68, 69, 70, 71, 72, 73] 74\n",
      "Possible values for 'how many weeks an advertiser spend'\n",
      "set([1, 2, 3, 4, 5, 6, 7, 8, 9, 10, 11, 12, 13, 14, 15, 16, 17, 18, 19, 20, 21, 22, 23, 24, 25, 26, 27, 28, 29, 30, 31, 32, 33, 34, 35, 36, 37, 38, 39, 40, 41, 42, 43, 44, 45, 46, 47, 48, 49, 50, 51, 52, 53, 54, 55, 56, 57, 58, 59, 60, 61, 62, 63, 64, 65, 66, 67, 68, 69, 70, 71, 72, 73, 74])\n"
     ]
    }
   ],
   "source": [
    "# Sanity check\n",
    "w = sorted(dataUS.spendAgeWeek_c.unique())\n",
    "print 'spendAgeWeek_c values'\n",
    "print w, len(w)\n",
    "print \"Possible values for 'how many weeks an advertiser spend'\"\n",
    "print np.array(set(dataUS.groupby('advertiserId')['week'].count().values))"
   ]
  },
  {
   "cell_type": "code",
   "execution_count": 32,
   "metadata": {
    "collapsed": false
   },
   "outputs": [
    {
     "data": {
      "text/plain": [
       "Index([u'advertiserId', u'isDradisEmployer', u'salesTouched', u'week',\n",
       "       u'costmillicent', u'jobCountry', u'company', u'employeeCount',\n",
       "       u'dateCreated', u'firstRevenueDate', u'lastRevenueDate', u'isAdAgency',\n",
       "       u'industry', u'type', u'state', u'city', u'conversionTime',\n",
       "       u'hasDradisJob', u'sid', u'kw', u'outgoingEmail', u'outgoingCall',\n",
       "       u'advertiserAgeWeek', u'spendAgeWeek', u'spendAgeWeek_c',\n",
       "       u'advertiserAgeWeek_c', u'conversionTime_c', u'sales_touch', u'source',\n",
       "       u'year', u'week_number', u'cost', u'week_rank'],\n",
       "      dtype='object')"
      ]
     },
     "execution_count": 32,
     "metadata": {},
     "output_type": "execute_result"
    }
   ],
   "source": [
    "dataUS.columns"
   ]
  },
  {
   "cell_type": "code",
   "execution_count": 36,
   "metadata": {
    "collapsed": false
   },
   "outputs": [],
   "source": [
    "dataUS.sort_values(['advertiserId', 'week'], ascending=[1, 1], inplace=True)"
   ]
  },
  {
   "cell_type": "code",
   "execution_count": 134,
   "metadata": {
    "collapsed": false
   },
   "outputs": [
    {
     "name": "stdout",
     "output_type": "stream",
     "text": [
      "270.065 1027.91784788\n"
     ]
    },
    {
     "data": {
      "image/png": "[encoded data removed]",
      "text/plain": [
       "<matplotlib.figure.Figure at 0x10de4a290>"
      ]
     },
     "metadata": {},
     "output_type": "display_data"
    }
   ],
   "source": [
    "# Sanity Check\n",
    "xy = dataUS.groupby('advertiserId')['cost'].sum().values\n",
    "sns.distplot(np.log10(xy))\n",
    "print np.median(xy),np.mean(xy)"
   ]
  },
  {
   "cell_type": "code",
   "execution_count": 78,
   "metadata": {
    "collapsed": false
   },
   "outputs": [],
   "source": [
    "#pick only important columns\n",
    "data_clean = dataUS[['advertiserId','week', 'week_rank', 'spendAgeWeek_c', 'cost', 'employeeCount', 'isAdAgency',\n",
    "                 'industry', 'type', 'source', 'salesTouched']]"
   ]
  },
  {
   "cell_type": "code",
   "execution_count": 136,
   "metadata": {
    "collapsed": false
   },
   "outputs": [
    {
     "name": "stdout",
     "output_type": "stream",
     "text": [
      "(2256794, 13) (2256794, 33)\n"
     ]
    }
   ],
   "source": [
    "#sanity_check : should have the same rows\n",
    "print data_clean.shape, dataUS.shape"
   ]
  },
  {
   "cell_type": "code",
   "execution_count": 79,
   "metadata": {
    "collapsed": false
   },
   "outputs": [
    {
     "name": "stdout",
     "output_type": "stream",
     "text": [
      "Total advertisers: (224734, 10)\n",
      "Total advertisers with labels: (224734, 4)\n"
     ]
    }
   ],
   "source": [
    "# Sanity Check: Advertiser are not label twice\n",
    "advertisers = data_clean.groupby(['advertiserId']).count()\n",
    "advertisers_with_info = data_clean.groupby(['advertiserId', 'employeeCount', 'isAdAgency', 'industry',\n",
    "                                            'type', 'source', 'salesTouched']).count() \n",
    "print 'Total advertisers:', advertisers.shape\n",
    "print 'Total advertisers with labels:', advertisers_with_info.shape"
   ]
  },
  {
   "cell_type": "code",
   "execution_count": 114,
   "metadata": {
    "collapsed": false
   },
   "outputs": [
    {
     "name": "stderr",
     "output_type": "stream",
     "text": [
      "/Users/aristotle/anaconda/lib/python2.7/site-packages/IPython/kernel/__main__.py:1: SettingWithCopyWarning: \n",
      "A value is trying to be set on a copy of a slice from a DataFrame.\n",
      "Try using .loc[row_indexer,col_indexer] = value instead\n",
      "\n",
      "See the caveats in the documentation: http://pandas.pydata.org/pandas-docs/stable/indexing.html#indexing-view-versus-copy\n",
      "  if __name__ == '__main__':\n"
     ]
    }
   ],
   "source": [
    "data_clean['first_four_weeks'] = data_clean['spendAgeWeek_c'].apply(lambda y: 1.0 if y<4 else 0.)"
   ]
  },
  {
   "cell_type": "code",
   "execution_count": 115,
   "metadata": {
    "collapsed": false
   },
   "outputs": [
    {
     "name": "stderr",
     "output_type": "stream",
     "text": [
      "/Users/aristotle/anaconda/lib/python2.7/site-packages/IPython/kernel/__main__.py:1: SettingWithCopyWarning: \n",
      "A value is trying to be set on a copy of a slice from a DataFrame.\n",
      "Try using .loc[row_indexer,col_indexer] = value instead\n",
      "\n",
      "See the caveats in the documentation: http://pandas.pydata.org/pandas-docs/stable/indexing.html#indexing-view-versus-copy\n",
      "  if __name__ == '__main__':\n"
     ]
    }
   ],
   "source": [
    "data_clean['cost_first_four_weeks'] = data_clean['first_four_weeks']*data_clean['cost']"
   ]
  },
  {
   "cell_type": "code",
   "execution_count": 137,
   "metadata": {
    "collapsed": false
   },
   "outputs": [
    {
     "name": "stdout",
     "output_type": "stream",
     "text": [
      "(2256794, 13) (2256794, 33)\n"
     ]
    }
   ],
   "source": [
    "#sanity_check : should have the same rows\n",
    "print data_clean.shape, dataUS.shape"
   ]
  },
  {
   "cell_type": "code",
   "execution_count": 138,
   "metadata": {
    "collapsed": false
   },
   "outputs": [],
   "source": [
    "#Aggregate data\n",
    "agg_data = data_clean.groupby(['advertiserId', 'employeeCount', 'isAdAgency', 'industry',\n",
    "                                            'type', 'source', 'salesTouched']).sum() "
   ]
  },
  {
   "cell_type": "code",
   "execution_count": 140,
   "metadata": {
    "collapsed": false
   },
   "outputs": [],
   "source": [
    "agg_data.reset_index(inplace=True)"
   ]
  },
  {
   "cell_type": "code",
   "execution_count": 144,
   "metadata": {
    "collapsed": false
   },
   "outputs": [],
   "source": [
    "agg_data = agg_data[['advertiserId', 'employeeCount', 'isAdAgency', 'industry',\n",
    "                                            'type', 'source', 'salesTouched', 'cost', 'cost_first_four_weeks']]"
   ]
  },
  {
   "cell_type": "code",
   "execution_count": 149,
   "metadata": {
    "collapsed": false
   },
   "outputs": [
    {
     "data": {
      "text/html": [
       "<div>\n",
       "<table border=\"1\" class=\"dataframe\">\n",
       "  <thead>\n",
       "    <tr style=\"text-align: right;\">\n",
       "      <th></th>\n",
       "      <th>advertiserId</th>\n",
       "      <th>employeeCount</th>\n",
       "      <th>isAdAgency</th>\n",
       "      <th>industry</th>\n",
       "      <th>type</th>\n",
       "      <th>source</th>\n",
       "      <th>salesTouched</th>\n",
       "      <th>cost</th>\n",
       "      <th>cost_first_four_weeks</th>\n",
       "    </tr>\n",
       "  </thead>\n",
       "  <tbody>\n",
       "    <tr>\n",
       "      <th>0</th>\n",
       "      <td>2505904</td>\n",
       "      <td>1</td>\n",
       "      <td>0</td>\n",
       "      <td>Other</td>\n",
       "      <td>Direct Employer</td>\n",
       "      <td>organic</td>\n",
       "      <td>1</td>\n",
       "      <td>24.56</td>\n",
       "      <td>24.56</td>\n",
       "    </tr>\n",
       "    <tr>\n",
       "      <th>1</th>\n",
       "      <td>2505922</td>\n",
       "      <td>0</td>\n",
       "      <td>0</td>\n",
       "      <td>Hospitality/Travel</td>\n",
       "      <td>Direct Employer</td>\n",
       "      <td>others</td>\n",
       "      <td>0</td>\n",
       "      <td>442.49</td>\n",
       "      <td>92.28</td>\n",
       "    </tr>\n",
       "    <tr>\n",
       "      <th>2</th>\n",
       "      <td>2505985</td>\n",
       "      <td>1</td>\n",
       "      <td>0</td>\n",
       "      <td>Spam</td>\n",
       "      <td>Direct Employer</td>\n",
       "      <td>others</td>\n",
       "      <td>1</td>\n",
       "      <td>200.32</td>\n",
       "      <td>187.42</td>\n",
       "    </tr>\n",
       "    <tr>\n",
       "      <th>3</th>\n",
       "      <td>2506047</td>\n",
       "      <td>1</td>\n",
       "      <td>0</td>\n",
       "      <td>Blank</td>\n",
       "      <td>none</td>\n",
       "      <td>organic</td>\n",
       "      <td>0</td>\n",
       "      <td>11.31</td>\n",
       "      <td>11.31</td>\n",
       "    </tr>\n",
       "    <tr>\n",
       "      <th>4</th>\n",
       "      <td>2506048</td>\n",
       "      <td>1</td>\n",
       "      <td>0</td>\n",
       "      <td>Blank</td>\n",
       "      <td>Direct Employer</td>\n",
       "      <td>organic</td>\n",
       "      <td>0</td>\n",
       "      <td>320.82</td>\n",
       "      <td>115.98</td>\n",
       "    </tr>\n",
       "  </tbody>\n",
       "</table>\n",
       "</div>"
      ],
      "text/plain": [
       "   advertiserId  employeeCount  isAdAgency            industry  \\\n",
       "0       2505904              1           0               Other   \n",
       "1       2505922              0           0  Hospitality/Travel   \n",
       "2       2505985              1           0                Spam   \n",
       "3       2506047              1           0               Blank   \n",
       "4       2506048              1           0               Blank   \n",
       "\n",
       "              type   source  salesTouched    cost  cost_first_four_weeks  \n",
       "0  Direct Employer  organic             1   24.56                  24.56  \n",
       "1  Direct Employer   others             0  442.49                  92.28  \n",
       "2  Direct Employer   others             1  200.32                 187.42  \n",
       "3             none  organic             0   11.31                  11.31  \n",
       "4  Direct Employer  organic             0  320.82                 115.98  "
      ]
     },
     "execution_count": 149,
     "metadata": {},
     "output_type": "execute_result"
    }
   ],
   "source": [
    "agg_data.head()"
   ]
  },
  {
   "cell_type": "code",
   "execution_count": 146,
   "metadata": {
    "collapsed": false
   },
   "outputs": [],
   "source": [
    "cost_data = agg_data['cost'].values"
   ]
  },
  {
   "cell_type": "code",
   "execution_count": 147,
   "metadata": {
    "collapsed": false
   },
   "outputs": [
    {
     "name": "stdout",
     "output_type": "stream",
     "text": [
      "270.065 1027.91784788\n",
      "2.43146830388 2.41289335352\n",
      "270.064999954 258.75774249\n"
     ]
    },
    {
     "data": {
      "image/png": "[encoded data removed]",
      "text/plain": [
       "<matplotlib.figure.Figure at 0x10de83c10>"
      ]
     },
     "metadata": {},
     "output_type": "display_data"
    }
   ],
   "source": [
    "sns.distplot(np.log10(cost_data))\n",
    "print np.median(cost_data),np.mean(cost_data)\n",
    "print np.median(np.log10(cost_data)),np.mean(np.log10(cost_data))\n",
    "print 10.**np.median(np.log10(cost_data)),10.**np.mean(np.log10(cost_data))"
   ]
  },
  {
   "cell_type": "code",
   "execution_count": 170,
   "metadata": {
    "collapsed": false
   },
   "outputs": [],
   "source": [
    "complete_data = dataUS[dataUS['spendAgeWeek_c']==73]"
   ]
  },
  {
   "cell_type": "code",
   "execution_count": 171,
   "metadata": {
    "collapsed": false
   },
   "outputs": [
    {
     "data": {
      "text/plain": [
       "(1394, 33)"
      ]
     },
     "execution_count": 171,
     "metadata": {},
     "output_type": "execute_result"
    }
   ],
   "source": [
    "complete_data.shape"
   ]
  },
  {
   "cell_type": "code",
   "execution_count": 172,
   "metadata": {
    "collapsed": true
   },
   "outputs": [],
   "source": [
    "data_with_full_run = dataUS[dataUS['advertiserId'].isin(sorted(complete_data.advertiserId.unique()))]\n",
    "data_with_full_run_early = data_with_full_run[data_with_full_run['spendAgeWeek_c']==0]"
   ]
  },
  {
   "cell_type": "code",
   "execution_count": 173,
   "metadata": {
    "collapsed": false
   },
   "outputs": [
    {
     "name": "stdout",
     "output_type": "stream",
     "text": [
      "['2015-05', '2015-06', '2015-07', '2015-08', '2015-09', '2015-10', '2015-11']\n"
     ]
    }
   ],
   "source": [
    "print sorted(data_with_full_run_early.week.unique())"
   ]
  },
  {
   "cell_type": "code",
   "execution_count": 180,
   "metadata": {
    "collapsed": true
   },
   "outputs": [],
   "source": [
    "advertiser_complete_cycle = sorted(complete_data.advertiserId.unique())"
   ]
  },
  {
   "cell_type": "code",
   "execution_count": 184,
   "metadata": {
    "collapsed": false
   },
   "outputs": [],
   "source": [
    "advertiser_incomplete_cycle = list(set(agg_data.advertiserId.unique()) - set(advertiser_complete_cycle))"
   ]
  },
  {
   "cell_type": "code",
   "execution_count": 185,
   "metadata": {
    "collapsed": false
   },
   "outputs": [
    {
     "name": "stdout",
     "output_type": "stream",
     "text": [
      "1394 223340\n"
     ]
    }
   ],
   "source": [
    "print len(advertiser_complete_cycle), len(advertiser_incomplete_cycle)"
   ]
  },
  {
   "cell_type": "markdown",
   "metadata": {},
   "source": [
    "### CLEAN DATA FINALLY!"
   ]
  },
  {
   "cell_type": "code",
   "execution_count": 186,
   "metadata": {
    "collapsed": false
   },
   "outputs": [],
   "source": [
    "test_data = agg_data[agg_data['advertiserId'].isin(advertiser_complete_cycle)]"
   ]
  },
  {
   "cell_type": "code",
   "execution_count": 187,
   "metadata": {
    "collapsed": false
   },
   "outputs": [],
   "source": [
    "to_be_predicted_data = agg_data[agg_data['advertiserId'].isin(advertiser_incomplete_cycle)]"
   ]
  },
  {
   "cell_type": "code",
   "execution_count": 189,
   "metadata": {
    "collapsed": false
   },
   "outputs": [
    {
     "name": "stdout",
     "output_type": "stream",
     "text": [
      "(1394, 9) (223340, 9)\n"
     ]
    }
   ],
   "source": [
    "print test_data.shape, to_be_predicted_data.shape"
   ]
  },
  {
   "cell_type": "markdown",
   "metadata": {
    "collapsed": false
   },
   "source": [
    "### Important Cols\n",
    "advertiserId\n",
    "week\n",
    "costmillicent"
   ]
  },
  {
   "cell_type": "code",
   "execution_count": 110,
   "metadata": {
    "collapsed": false
   },
   "outputs": [
    {
     "name": "stdout",
     "output_type": "stream",
     "text": [
      "11\n"
     ]
    }
   ],
   "source": [
    "## Only consider these columns.\n",
    "columns = ['employeeCount', 'isDradisEmployer', 'salesTouched', 'isAdAgency', \n",
    "'industry', 'type', 'conversionTime_c', 'hasDradisJob', 'advertiserAgeWeek_c',\n",
    "'sales_touch', 'source']\n",
    "print len(columns)"
   ]
  },
  {
   "cell_type": "code",
   "execution_count": 95,
   "metadata": {
    "collapsed": true
   },
   "outputs": [],
   "source": [
    "#Make dummies for categorical features.\n",
    "def preprocess_features(X):\n",
    "    ''' Preprocesses the student data and converts non-numeric binary variables into\n",
    "        binary (0/1) variables. Converts categorical variables into dummy variables. '''\n",
    "    \n",
    "    # Initialize new output DataFrame\n",
    "    output = pd.DataFrame(index = X.index)\n",
    "\n",
    "    # Investigate each feature column for the data\n",
    "    for col, col_data in X.iteritems():\n",
    "\n",
    "        # If data type is non-numeric, replace all yes/no values with 1/0\n",
    "        if col_data.dtype == object:\n",
    "            col_data = col_data.replace(['yes', 'no'], [1, 0])\n",
    "\n",
    "        # If data type is categorical, convert to dummy variables\n",
    "        if col_data.dtype == object:\n",
    "            # Example: 'GarageCond' => 'GarageCond_Ex', etc.\n",
    "            col_data = pd.get_dummies(col_data, prefix = col)  \n",
    "        \n",
    "        # Collect the revised columns\n",
    "        output = output.join(col_data)\n",
    "    \n",
    "    return output"
   ]
  },
  {
   "cell_type": "code",
   "execution_count": 96,
   "metadata": {
    "collapsed": true
   },
   "outputs": [],
   "source": [
    "def remove_nans(df):\n",
    "    nan_df = df[pd.isnull(df).any(axis=1)]\n",
    "    for col in nan_df.columns:\n",
    "        tmp = nan_df[col][pd.isnull(nan_df[col])]\n",
    "        if len(tmp) >= 1:\n",
    "            #print \"These features have NULLs to signify the absence of such a feature:\"\n",
    "            print col, len(tmp)\n",
    "            df[col] = df[col].fillna(0.)\n",
    "    print np.shape(df)\n",
    "    return df"
   ]
  },
  {
   "cell_type": "code",
   "execution_count": 97,
   "metadata": {
    "collapsed": true
   },
   "outputs": [],
   "source": [
    "## Define and remove repeat outliers\n",
    "def remove_outliers(df):\n",
    "    outliers  = []\n",
    "    for feature in df.columns:\n",
    "        \n",
    "        # Calculate Q1 (25th percentile of the data) for the given feature\n",
    "        Q1 = np.percentile(df[feature], 25)\n",
    "        \n",
    "        # Calculate Q3 (75th percentile of the data) for the given feature\n",
    "        Q3 = np.percentile(df[feature], 75)\n",
    "        \n",
    "        # Use the interquartile range to calculate an outlier step (1.5 times the interquartile range)\n",
    "        step = 1.5*(Q3-Q1)\n",
    "        \n",
    "        outliers = list(outliers + df[~((df[feature] >= Q1 - step) & \\\n",
    "                                                  (df[feature] <= Q3 + step))].index.tolist())\n",
    "    \n",
    "    # Select the indices for data points you wish to remove\n",
    "    from collections import Counter\n",
    "    counts = Counter(outliers)\n",
    "    outliers = sorted([value for value, count in counts.items() if count > 2])\n",
    "    return outliers"
   ]
  },
  {
   "cell_type": "code",
   "execution_count": 98,
   "metadata": {
    "collapsed": false
   },
   "outputs": [],
   "source": [
    "## Remove NaNs\n",
    "#data_clean = remove_nans(dataUS)\n",
    "#data_clean = preprocess_features(dataUS)\n",
    "## Remove outliers\n",
    "#outliers = remove_outliers(data)\n",
    "#good_data = data_clean.drop(data_clean.index[outliers]).reset_index(drop = True)\n",
    "#good_data_X = good_data.drop(['costmillicent'], axis =1)\n",
    "#good_data_y =  good_data['costmillicent']\n",
    "#print \"The dimensions of the data without outliers now is {}\".format(np.shape(good_data_X))\n"
   ]
  },
  {
   "cell_type": "code",
   "execution_count": 99,
   "metadata": {
    "collapsed": false
   },
   "outputs": [],
   "source": [
    "#Q1 = np.percentile(dataUS['costmillicent'], 25)\n",
    "#Q3 = np.percentile(dataUS['costmillicent'], 75)\n",
    "#step = 1.5*(Q3-Q1)\n",
    "#outliers = list(dataUS[~((dataUS['costmillicent'] >= Q1 - step) & \\\n",
    "#                                                  (dataUS['costmillicent'] <= Q3 + step))].index.tolist())\n",
    "#good_data = dataUS.drop(dataUS.index[outliers]).reset_index(drop = True)\n",
    "#g = sns.FacetGrid(good_data, col=\"source\")  \n",
    "#g.map(sns.distplot, \"costmillicent\")  \n",
    "#plt.xlim(0,)"
   ]
  },
  {
   "cell_type": "code",
   "execution_count": 84,
   "metadata": {
    "collapsed": false
   },
   "outputs": [
    {
     "name": "stderr",
     "output_type": "stream",
     "text": [
      "/Users/gmsardane/Library/Enthought/Canopy_64bit/User/lib/python2.7/site-packages/ipykernel/__main__.py:3: SettingWithCopyWarning: \n",
      "A value is trying to be set on a copy of a slice from a DataFrame.\n",
      "Try using .loc[row_indexer,col_indexer] = value instead\n",
      "\n",
      "See the caveats in the documentation: http://pandas.pydata.org/pandas-docs/stable/indexing.html#indexing-view-versus-copy\n",
      "  app.launch_new_instance()\n"
     ]
    }
   ],
   "source": [
    "us_clean = dataUS[dataUS.week!='2016-53']\n",
    "complete_data = us_clean[us_clean['week'].isin(['2015-05', '2015-06', '2015-07', '2015-08', '2015-09', '2015-10'])]\n",
    "complete_data['cost'] = complete_data['costmillicent']\n",
    "complete_data = complete_data[complete_data['isDradisEmployer']==1]"
   ]
  },
  {
   "cell_type": "code",
   "execution_count": 85,
   "metadata": {
    "collapsed": false,
    "scrolled": false
   },
   "outputs": [
    {
     "name": "stdout",
     "output_type": "stream",
     "text": [
      "(10785, 10)\n"
     ]
    },
    {
     "data": {
      "text/html": [
       "<div>\n",
       "<table border=\"1\" class=\"dataframe\">\n",
       "  <thead>\n",
       "    <tr style=\"text-align: right;\">\n",
       "      <th></th>\n",
       "      <th>advertiserId</th>\n",
       "      <th>source</th>\n",
       "      <th>type</th>\n",
       "      <th>conversionTime_c</th>\n",
       "      <th>hasDradisJob</th>\n",
       "      <th>advertiserAgeWeek_c</th>\n",
       "      <th>isAdAgency</th>\n",
       "      <th>cost</th>\n",
       "      <th>CountAdvertiserID</th>\n",
       "      <th>mean_sales_touch</th>\n",
       "    </tr>\n",
       "  </thead>\n",
       "  <tbody>\n",
       "    <tr>\n",
       "      <th>0</th>\n",
       "      <td>2505904</td>\n",
       "      <td>organic</td>\n",
       "      <td>Direct Employer</td>\n",
       "      <td>0</td>\n",
       "      <td>1</td>\n",
       "      <td>0</td>\n",
       "      <td>0</td>\n",
       "      <td>24.56</td>\n",
       "      <td>2</td>\n",
       "      <td>1.00</td>\n",
       "    </tr>\n",
       "    <tr>\n",
       "      <th>1</th>\n",
       "      <td>2505985</td>\n",
       "      <td>others</td>\n",
       "      <td>Direct Employer</td>\n",
       "      <td>12</td>\n",
       "      <td>1</td>\n",
       "      <td>1</td>\n",
       "      <td>0</td>\n",
       "      <td>187.42</td>\n",
       "      <td>4</td>\n",
       "      <td>0.25</td>\n",
       "    </tr>\n",
       "    <tr>\n",
       "      <th>2</th>\n",
       "      <td>2506048</td>\n",
       "      <td>organic</td>\n",
       "      <td>Direct Employer</td>\n",
       "      <td>0</td>\n",
       "      <td>1</td>\n",
       "      <td>0</td>\n",
       "      <td>0</td>\n",
       "      <td>183.95</td>\n",
       "      <td>6</td>\n",
       "      <td>0.00</td>\n",
       "    </tr>\n",
       "    <tr>\n",
       "      <th>3</th>\n",
       "      <td>2506654</td>\n",
       "      <td>direct</td>\n",
       "      <td>Direct Employer</td>\n",
       "      <td>0</td>\n",
       "      <td>1</td>\n",
       "      <td>0</td>\n",
       "      <td>0</td>\n",
       "      <td>232.65</td>\n",
       "      <td>4</td>\n",
       "      <td>0.00</td>\n",
       "    </tr>\n",
       "    <tr>\n",
       "      <th>4</th>\n",
       "      <td>2506768</td>\n",
       "      <td>direct</td>\n",
       "      <td>none</td>\n",
       "      <td>0</td>\n",
       "      <td>1</td>\n",
       "      <td>0</td>\n",
       "      <td>0</td>\n",
       "      <td>66.32</td>\n",
       "      <td>6</td>\n",
       "      <td>0.00</td>\n",
       "    </tr>\n",
       "  </tbody>\n",
       "</table>\n",
       "</div>"
      ],
      "text/plain": [
       "   advertiserId   source             type  conversionTime_c  hasDradisJob  \\\n",
       "0       2505904  organic  Direct Employer                 0             1   \n",
       "1       2505985   others  Direct Employer                12             1   \n",
       "2       2506048  organic  Direct Employer                 0             1   \n",
       "3       2506654   direct  Direct Employer                 0             1   \n",
       "4       2506768   direct             none                 0             1   \n",
       "\n",
       "   advertiserAgeWeek_c  isAdAgency    cost  CountAdvertiserID  \\\n",
       "0                    0           0   24.56                  2   \n",
       "1                    1           0  187.42                  4   \n",
       "2                    0           0  183.95                  6   \n",
       "3                    0           0  232.65                  4   \n",
       "4                    0           0   66.32                  6   \n",
       "\n",
       "   mean_sales_touch  \n",
       "0              1.00  \n",
       "1              0.25  \n",
       "2              0.00  \n",
       "3              0.00  \n",
       "4              0.00  "
      ]
     },
     "execution_count": 85,
     "metadata": {},
     "output_type": "execute_result"
    }
   ],
   "source": [
    "tmp = complete_data.groupby(['advertiserId'])\n",
    "new_complete_data = pd.DataFrame(complete_data.groupby(['advertiserId', 'source', 'type', 'conversionTime_c',\n",
    "                                                        'hasDradisJob', 'advertiserAgeWeek_c',\n",
    "                                                        'isAdAgency']).agg({'cost': np.sum, \n",
    "                                                                                       'sales_touch': np.mean, \n",
    "                                                                    'advertiserId': np.count_nonzero}))\n",
    "#z = complete_data.groupby(['advertiserId'])['cost'].sum()\n",
    "#final = sorted(z.tolist())\n",
    "#np.shape(final)\n",
    "new_complete_data['CountAdvertiserID'] =  new_complete_data.advertiserId\n",
    "new_complete_data = new_complete_data.drop(['advertiserId'], axis=1)\n",
    "new_complete_data['mean_sales_touch'] =  new_complete_data.sales_touch\n",
    "new_complete_data = new_complete_data.drop(['sales_touch'], axis=1)\n",
    "\n",
    "grouped = new_complete_data.reset_index()\n",
    "print grouped.shape\n",
    "grouped.head()\n"
   ]
  },
  {
   "cell_type": "code",
   "execution_count": 106,
   "metadata": {
    "collapsed": false
   },
   "outputs": [],
   "source": [
    "columns = ['employeeCount', 'isDradisEmployer', 'salesTouched', 'isAdAgency', \n",
    "'industry', 'type', 'conversionTime_c', 'hasDradisJob', 'advertiserAgeWeek_c', 'advertiserAgeWeek_c',\n",
    "'sales_touch', 'source']\n",
    "tmp = []\n",
    "for adID in grouped.advertiserId:\n",
    "    tmp.append(list(set(complete_data[complete_data.advertiserId == adID]['industry']))[0])\n"
   ]
  },
  {
   "cell_type": "code",
   "execution_count": 109,
   "metadata": {
    "collapsed": false
   },
   "outputs": [
    {
     "name": "stdout",
     "output_type": "stream",
     "text": [
      "(10785, 11)\n"
     ]
    },
    {
     "data": {
      "text/html": [
       "<div>\n",
       "<table border=\"1\" class=\"dataframe\">\n",
       "  <thead>\n",
       "    <tr style=\"text-align: right;\">\n",
       "      <th></th>\n",
       "      <th>advertiserId</th>\n",
       "      <th>source</th>\n",
       "      <th>type</th>\n",
       "      <th>conversionTime_c</th>\n",
       "      <th>hasDradisJob</th>\n",
       "      <th>advertiserAgeWeek_c</th>\n",
       "      <th>isAdAgency</th>\n",
       "      <th>cost</th>\n",
       "      <th>CountAdvertiserID</th>\n",
       "      <th>mean_sales_touch</th>\n",
       "      <th>industry</th>\n",
       "    </tr>\n",
       "  </thead>\n",
       "  <tbody>\n",
       "    <tr>\n",
       "      <th>0</th>\n",
       "      <td>2505904</td>\n",
       "      <td>organic</td>\n",
       "      <td>Direct Employer</td>\n",
       "      <td>0</td>\n",
       "      <td>1</td>\n",
       "      <td>0</td>\n",
       "      <td>0</td>\n",
       "      <td>24.56</td>\n",
       "      <td>2</td>\n",
       "      <td>1.00</td>\n",
       "      <td>Other</td>\n",
       "    </tr>\n",
       "    <tr>\n",
       "      <th>1</th>\n",
       "      <td>2505985</td>\n",
       "      <td>others</td>\n",
       "      <td>Direct Employer</td>\n",
       "      <td>12</td>\n",
       "      <td>1</td>\n",
       "      <td>1</td>\n",
       "      <td>0</td>\n",
       "      <td>187.42</td>\n",
       "      <td>4</td>\n",
       "      <td>0.25</td>\n",
       "      <td>Spam</td>\n",
       "    </tr>\n",
       "    <tr>\n",
       "      <th>2</th>\n",
       "      <td>2506048</td>\n",
       "      <td>organic</td>\n",
       "      <td>Direct Employer</td>\n",
       "      <td>0</td>\n",
       "      <td>1</td>\n",
       "      <td>0</td>\n",
       "      <td>0</td>\n",
       "      <td>183.95</td>\n",
       "      <td>6</td>\n",
       "      <td>0.00</td>\n",
       "      <td>NaN</td>\n",
       "    </tr>\n",
       "    <tr>\n",
       "      <th>3</th>\n",
       "      <td>2506654</td>\n",
       "      <td>direct</td>\n",
       "      <td>Direct Employer</td>\n",
       "      <td>0</td>\n",
       "      <td>1</td>\n",
       "      <td>0</td>\n",
       "      <td>0</td>\n",
       "      <td>232.65</td>\n",
       "      <td>4</td>\n",
       "      <td>0.00</td>\n",
       "      <td>NaN</td>\n",
       "    </tr>\n",
       "    <tr>\n",
       "      <th>4</th>\n",
       "      <td>2506768</td>\n",
       "      <td>direct</td>\n",
       "      <td>none</td>\n",
       "      <td>0</td>\n",
       "      <td>1</td>\n",
       "      <td>0</td>\n",
       "      <td>0</td>\n",
       "      <td>66.32</td>\n",
       "      <td>6</td>\n",
       "      <td>0.00</td>\n",
       "      <td>NaN</td>\n",
       "    </tr>\n",
       "  </tbody>\n",
       "</table>\n",
       "</div>"
      ],
      "text/plain": [
       "   advertiserId   source             type  conversionTime_c  hasDradisJob  \\\n",
       "0       2505904  organic  Direct Employer                 0             1   \n",
       "1       2505985   others  Direct Employer                12             1   \n",
       "2       2506048  organic  Direct Employer                 0             1   \n",
       "3       2506654   direct  Direct Employer                 0             1   \n",
       "4       2506768   direct             none                 0             1   \n",
       "\n",
       "   advertiserAgeWeek_c  isAdAgency    cost  CountAdvertiserID  \\\n",
       "0                    0           0   24.56                  2   \n",
       "1                    1           0  187.42                  4   \n",
       "2                    0           0  183.95                  6   \n",
       "3                    0           0  232.65                  4   \n",
       "4                    0           0   66.32                  6   \n",
       "\n",
       "   mean_sales_touch industry  \n",
       "0              1.00    Other  \n",
       "1              0.25     Spam  \n",
       "2              0.00      NaN  \n",
       "3              0.00      NaN  \n",
       "4              0.00      NaN  "
      ]
     },
     "execution_count": 109,
     "metadata": {},
     "output_type": "execute_result"
    }
   ],
   "source": [
    "grouped['industry'] = tmp\n",
    "\n",
    "print np.shape(grouped)\n",
    "grouped.head()"
   ]
  },
  {
   "cell_type": "code",
   "execution_count": 121,
   "metadata": {
    "collapsed": false
   },
   "outputs": [
    {
     "name": "stdout",
     "output_type": "stream",
     "text": [
      "(10785, 11)\n"
     ]
    }
   ],
   "source": [
    "## Preprocess features with NaNs and Catgoricals\n",
    "data_clean = remove_nans(grouped)\n",
    "data_clean = preprocess_features(data_clean)"
   ]
  },
  {
   "cell_type": "code",
   "execution_count": 125,
   "metadata": {
    "collapsed": false
   },
   "outputs": [],
   "source": [
    "data_clean_train = data_clean.drop(['advertiserId'], axis=1)\n",
    "data_clean_train_y = data_clean_train['cost']\n",
    "data_clean_train_X = data_clean.drop(['cost'], axis=1)"
   ]
  },
  {
   "cell_type": "code",
   "execution_count": 179,
   "metadata": {
    "collapsed": true
   },
   "outputs": [],
   "source": [
    "from sklearn.metrics import r2_score, mean_squared_error, make_scorer\n",
    "def performance_metric(y_true, y_predict):\n",
    "    \"\"\" Calculates and returns the performance score between \n",
    "        true and predicted values based on the metric chosen. \"\"\"\n",
    "    \n",
    "    # Calculate the performance score between 'y_true' and 'y_predict'\n",
    "    score = r2_score(y_true, y_predict)\n",
    "    \n",
    "    # Return the score\n",
    "    return score\n",
    "\n",
    "def create_sets(X, y):\n",
    "    # Split into training and testing components first\n",
    "    \n",
    "    # Set the number of training points\n",
    "    num_train = int(round(0.80*len(X)))\n",
    "    \n",
    "    # Set the number of testing points\n",
    "    num_test = X.shape[0] - num_train\n",
    "    \n",
    "    # Shuffle and split the dataset into the number of training and testing points above\n",
    "    X_train, X_test, y_train, y_test = train_test_split(X, y, train_size = num_train, random_state=123458)\n",
    "    \n",
    "    # Show the results of the split\n",
    "    print \"Training set has {} samples.\".format(X_train.shape[0])\n",
    "    print \"Testing set has {} samples.\".format(X_test.shape[0])\n",
    "    return X_train, X_test, y_train, y_test\n"
   ]
  },
  {
   "cell_type": "code",
   "execution_count": 180,
   "metadata": {
    "collapsed": true
   },
   "outputs": [],
   "source": [
    "def fit_model(X, y, n_estimators = 1000, min_samples_leaf = 1, min_samples_split =2):\n",
    "    cv_sets = ShuffleSplit(X.shape[0], n_iter = 10, test_size = 0.20)\n",
    "    regressor = GradientBoostingRegressor(loss= 'lad', n_estimators=n_estimators,min_samples_leaf = 1, \n",
    "                                          min_samples_split =2,random_state=102345)\n",
    "\n",
    "    # Create a dictionary for the parameter 'max_depth' with a range from 1 to 10\n",
    "    params = {'learning_rate': [0.01, 0.02, 0.05, 0.1], # 'n_estimators': [100, 500, 1000],\n",
    "              'max_depth': [2, 3, 4, 5, 6], 'min_samples_leaf':  [2,3,5,7]}\n",
    "    # Transform 'performance_metric' into a scoring function using 'make_scorer' \n",
    "    scoring_fnc = make_scorer(performance_metric)\n",
    "    # Create the grid search object\n",
    "    grid = GridSearchCV(regressor, params, cv=cv_sets, scoring = scoring_fnc)#, verbose=10)\n",
    "    # Fit the grid search object to the data to compute the optimal model\n",
    "    grid = grid.fit(X, y)\n",
    "    # Print the optimal model after fitting the data\n",
    "    print 'The cross-validation scores = {:.2f}'.format(grid.best_score_)\n",
    "    print grid.best_estimator_\n",
    "    return grid"
   ]
  },
  {
   "cell_type": "code",
   "execution_count": 182,
   "metadata": {
    "collapsed": false
   },
   "outputs": [
    {
     "name": "stdout",
     "output_type": "stream",
     "text": [
      "Training set has 8628 samples.\n",
      "Testing set has 2157 samples.\n",
      "The cross-validation scores = 0.47\n",
      "GradientBoostingRegressor(alpha=0.9, init=None, learning_rate=0.01,\n",
      "             loss='lad', max_depth=5, max_features=None,\n",
      "             max_leaf_nodes=None, min_samples_leaf=7, min_samples_split=2,\n",
      "             min_weight_fraction_leaf=0.0, n_estimators=1000,\n",
      "             presort='auto', random_state=102345, subsample=1.0, verbose=0,\n",
      "             warm_start=False)\n"
     ]
    }
   ],
   "source": [
    "## Train-test split\n",
    "from sklearn.ensemble import RandomForestRegressor, AdaBoostRegressor, GradientBoostingRegressor\n",
    "from sklearn.cross_validation import train_test_split, ShuffleSplit\n",
    "from sklearn.grid_search import GridSearchCV\n",
    "\n",
    "X_train, X_test, y_train, y_test = create_sets(data_clean_train_X, np.log10(data_clean_train_y))\n",
    "reg0 = fit_model(X_train, y_train)"
   ]
  },
  {
   "cell_type": "code",
   "execution_count": 17,
   "metadata": {
    "collapsed": false
   },
   "outputs": [
    {
     "ename": "NameError",
     "evalue": "name 'final' is not defined",
     "output_type": "error",
     "traceback": [
      "\u001b[0;31m---------------------------------------------------------------------------\u001b[0m",
      "\u001b[0;31mNameError\u001b[0m                                 Traceback (most recent call last)",
      "\u001b[0;32m<ipython-input-17-419a5284837d>\u001b[0m in \u001b[0;36m<module>\u001b[0;34m()\u001b[0m\n\u001b[1;32m     15\u001b[0m \u001b[0mf\u001b[0m\u001b[0;34m,\u001b[0m \u001b[0;34m(\u001b[0m\u001b[0max_box\u001b[0m\u001b[0;34m,\u001b[0m \u001b[0max_hist\u001b[0m\u001b[0;34m)\u001b[0m \u001b[0;34m=\u001b[0m \u001b[0mplt\u001b[0m\u001b[0;34m.\u001b[0m\u001b[0msubplots\u001b[0m\u001b[0;34m(\u001b[0m\u001b[0;36m2\u001b[0m\u001b[0;34m,\u001b[0m \u001b[0msharex\u001b[0m\u001b[0;34m=\u001b[0m\u001b[0mTrue\u001b[0m\u001b[0;34m,\u001b[0m\u001b[0mgridspec_kw\u001b[0m\u001b[0;34m=\u001b[0m\u001b[0;34m{\u001b[0m\u001b[0;34m\"height_ratios\"\u001b[0m\u001b[0;34m:\u001b[0m \u001b[0;34m(\u001b[0m\u001b[0;36m.15\u001b[0m\u001b[0;34m,\u001b[0m \u001b[0;36m.85\u001b[0m\u001b[0;34m)\u001b[0m\u001b[0;34m}\u001b[0m\u001b[0;34m)\u001b[0m\u001b[0;34m\u001b[0m\u001b[0m\n\u001b[1;32m     16\u001b[0m \u001b[0;34m\u001b[0m\u001b[0m\n\u001b[0;32m---> 17\u001b[0;31m \u001b[0msns\u001b[0m\u001b[0;34m.\u001b[0m\u001b[0mboxplot\u001b[0m\u001b[0;34m(\u001b[0m\u001b[0mnp\u001b[0m\u001b[0;34m.\u001b[0m\u001b[0mlog10\u001b[0m\u001b[0;34m(\u001b[0m\u001b[0mfinal\u001b[0m\u001b[0;34m)\u001b[0m\u001b[0;34m,\u001b[0m \u001b[0max\u001b[0m\u001b[0;34m=\u001b[0m\u001b[0max_box\u001b[0m\u001b[0;34m,\u001b[0m \u001b[0mcolor\u001b[0m\u001b[0;34m=\u001b[0m\u001b[0;34m'Pink'\u001b[0m\u001b[0;34m)\u001b[0m\u001b[0;34m;\u001b[0m\u001b[0;34m\u001b[0m\u001b[0m\n\u001b[0m\u001b[1;32m     18\u001b[0m \u001b[0msns\u001b[0m\u001b[0;34m.\u001b[0m\u001b[0mdistplot\u001b[0m\u001b[0;34m(\u001b[0m\u001b[0mnp\u001b[0m\u001b[0;34m.\u001b[0m\u001b[0mlog10\u001b[0m\u001b[0;34m(\u001b[0m\u001b[0mfinal\u001b[0m\u001b[0;34m)\u001b[0m\u001b[0;34m,\u001b[0m \u001b[0max\u001b[0m\u001b[0;34m=\u001b[0m\u001b[0max_hist\u001b[0m\u001b[0;34m,\u001b[0m \u001b[0mcolor\u001b[0m\u001b[0;34m=\u001b[0m\u001b[0;34m'grey'\u001b[0m\u001b[0;34m,\u001b[0m \u001b[0mnorm_hist\u001b[0m\u001b[0;34m=\u001b[0m\u001b[0mFalse\u001b[0m\u001b[0;34m,\u001b[0m \u001b[0mbins\u001b[0m\u001b[0;34m=\u001b[0m\u001b[0;36m25\u001b[0m\u001b[0;34m,\u001b[0m \u001b[0mhist_kws\u001b[0m\u001b[0;34m=\u001b[0m\u001b[0;34m{\u001b[0m\u001b[0;34m'alpha'\u001b[0m\u001b[0;34m:\u001b[0m \u001b[0;36m0.8\u001b[0m\u001b[0;34m,\u001b[0m \u001b[0;34m'color'\u001b[0m\u001b[0;34m:\u001b[0m \u001b[0;34m'pink'\u001b[0m\u001b[0;34m}\u001b[0m\u001b[0;34m)\u001b[0m\u001b[0;34m;\u001b[0m\u001b[0;34m\u001b[0m\u001b[0m\n\u001b[1;32m     19\u001b[0m \u001b[0;34m\u001b[0m\u001b[0m\n",
      "\u001b[0;31mNameError\u001b[0m: name 'final' is not defined"
     ]
    },
    {
     "data": {
      "image/png": "[encoded data removed]",
      "text/plain": [
       "<matplotlib.figure.Figure at 0x105088c10>"
      ]
     },
     "metadata": {},
     "output_type": "display_data"
    }
   ],
   "source": [
    "#define plotter\n",
    "minorLocatorx   = AutoMinorLocator(10)\n",
    "minorLocatory   = AutoMinorLocator(4)\n",
    "matplotlib.rc('xtick', labelsize=16) \n",
    "matplotlib.rc('ytick', labelsize=16) \n",
    "matplotlib.rcParams['axes.linewidth'] = 2.\n",
    "plt.rcParams['axes.linewidth'] = 4\n",
    "plt.rc('font', family='serif')\n",
    "plt.rc('font', serif='Times New Roman') \n",
    "fig_size = plt.rcParams[\"figure.figsize\"]\n",
    "plt.rcParams[\"figure.figsize\"] = fig_size\n",
    "fig_size[0] = 12\n",
    "fig_size[1] = 12\n",
    "plt.rcParams[\"figure.figsize\"] = fig_size\n",
    "f, (ax_box, ax_hist) = plt.subplots(2, sharex=True,gridspec_kw={\"height_ratios\": (.15, .85)})\n",
    "\n",
    "sns.boxplot(np.log10(final), ax=ax_box, color='Pink');\n",
    "sns.distplot(np.log10(final), ax=ax_hist, color='grey', norm_hist=False, bins=25, hist_kws={'alpha': 0.8, 'color': 'pink'});\n",
    "\n",
    "ax_box.set(yticks=[], xlabel='log$_{10}$ [Sale Price [USD]]')\n",
    "sns.despine(ax=ax_hist);\n",
    "sns.despine(ax=ax_box, left=True)\n",
    "\n",
    "plt.xlabel('log$_{10}$ [Cost [USD]]', fontsize=35)\n",
    "plt.ylabel('Counts',  fontsize=35);\n",
    "#plt.xlim(1e4, 1e6);\n",
    "plt.yticks(fontsize=25);\n",
    "plt.xticks(fontsize=25);#, format)\n",
    "#plt.semilogx();\n",
    "#plt.savefig('Cost.pdf', dpi=400)"
   ]
  },
  {
   "cell_type": "markdown",
   "metadata": {},
   "source": [
    "## Now I want to train these roughly 11,000 US data set that have data all throughout its lifetime. I want to predict the cost given all/any of the features."
   ]
  },
  {
   "cell_type": "code",
   "execution_count": null,
   "metadata": {
    "collapsed": false
   },
   "outputs": [],
   "source": [
    "part_comp_data = complete_data[list(set(columns))]"
   ]
  },
  {
   "cell_type": "code",
   "execution_count": null,
   "metadata": {
    "collapsed": false
   },
   "outputs": [],
   "source": [
    "part_comp_data.head()"
   ]
  },
  {
   "cell_type": "code",
   "execution_count": null,
   "metadata": {
    "collapsed": false
   },
   "outputs": [],
   "source": [
    "data_clean = remove_nans(part_comp_data)\n",
    "data_clean = preprocess_features(data_clean)\n",
    "## Remove outliers\n",
    "#outliers = remove_outliers(data)\n",
    "#good_data = data_clean.drop(data_clean.index[outliers]).reset_index(drop = True)\n",
    "#good_data_X = good_data.drop(['costmillicent'], axis =1)\n",
    "#good_data_y =  good_data['costmillicent']\n",
    "print \"The dimensions of the data without outliers now is {}\".format(np.shape(data_clean))\n",
    "data_clean.columns"
   ]
  },
  {
   "cell_type": "code",
   "execution_count": null,
   "metadata": {
    "collapsed": false
   },
   "outputs": [],
   "source": [
    "len(complete_data)"
   ]
  },
  {
   "cell_type": "code",
   "execution_count": null,
   "metadata": {
    "collapsed": false
   },
   "outputs": [],
   "source": [
    "complete_data.columns"
   ]
  },
  {
   "cell_type": "code",
   "execution_count": null,
   "metadata": {
    "collapsed": false
   },
   "outputs": [],
   "source": [
    "set(complete_data.sales_touch)"
   ]
  },
  {
   "cell_type": "code",
   "execution_count": null,
   "metadata": {
    "collapsed": true
   },
   "outputs": [],
   "source": []
  }
 ],
 "metadata": {
  "kernelspec": {
   "display_name": "Python 2",
   "language": "python",
   "name": "python2"
  },
  "language_info": {
   "codemirror_mode": {
    "name": "ipython",
    "version": 2
   },
   "file_extension": ".py",
   "mimetype": "text/x-python",
   "name": "python",
   "nbconvert_exporter": "python",
   "pygments_lexer": "ipython2",
   "version": "2.7.11"
  }
 },
 "nbformat": 4,
 "nbformat_minor": 0
}

{
 "cells": [
  {
   "cell_type": "markdown",
   "metadata": {},
   "source": [
    "# What is the value of a customer?\n",
    "\n",
    "Exploring how we can classify a customer to some particular type.\n",
    "The plan of attack is to do some:\n",
    "\n",
    "1. Data exploration.\n",
    "2. Do PCA to explore distribution of variance.\n",
    "3. Explore outliers.\n",
    "4. Cluster using GMM on the transformed."
   ]
  },
  {
   "cell_type": "code",
   "execution_count": 1,
   "metadata": {
    "collapsed": false
   },
   "outputs": [],
   "source": [
    "# Import libraries necessary for this project\n",
    "import numpy as np\n",
    "import pandas as pd\n",
    "import seaborn as sns\n",
    "sns.set(font_scale=1.5) \n",
    "sns.set_style(\"white\")\n",
    "\n",
    "# Pretty display for notebooks\n",
    "import matplotlib\n",
    "import matplotlib.pyplot as plt\n",
    "%matplotlib inline\n",
    "import matplotlib.gridspec as grd\n",
    "import matplotlib.ticker as tkr\n",
    "import matplotlib.font_manager as font_manager\n",
    "\n",
    "from matplotlib.ticker import AutoMinorLocator\n",
    "from matplotlib.ticker import FuncFormatter\n",
    "from matplotlib import rcParams\n",
    "\n",
    "#define plotter\n",
    "minorLocatorx   = AutoMinorLocator(10)\n",
    "minorLocatory   = AutoMinorLocator(4)\n",
    "matplotlib.rc('xtick', labelsize=16) \n",
    "matplotlib.rc('ytick', labelsize=16) \n",
    "matplotlib.rcParams['axes.linewidth'] = 2.\n",
    "plt.rcParams['axes.linewidth'] = 4\n",
    "plt.rc('font', family='serif');\n",
    "plt.rc('font', serif='Times New Roman'); \n",
    "fig_size = plt.rcParams[\"figure.figsize\"]\n",
    "fig_size[0] = 15\n",
    "fig_size[1] = 9\n",
    "plt.rcParams[\"figure.figsize\"] = fig_size"
   ]
  },
  {
   "cell_type": "code",
   "execution_count": 2,
   "metadata": {
    "collapsed": false
   },
   "outputs": [],
   "source": [
    "# Read data\n",
    "data = pd.read_csv('../ltv20160906_test.csv', delimiter='^')\n",
    "data_80 = pd.read_csv('../ltv20160906_train.csv', delimiter='^')\n",
    "data_all = pd.concat([data, data_80])"
   ]
  },
  {
   "cell_type": "code",
   "execution_count": 3,
   "metadata": {
    "collapsed": true
   },
   "outputs": [],
   "source": [
    "# convert week into year and week_number column \n",
    "data_all['year'] = data_all['week'].apply(lambda y: int(y[0:4]))\n",
    "data_all['week_number'] = data_all['week'].apply(lambda y: int(y[-2:]))"
   ]
  },
  {
   "cell_type": "code",
   "execution_count": 4,
   "metadata": {
    "collapsed": false
   },
   "outputs": [],
   "source": [
    "#consider only US and Dradis data\n",
    "#rescale costmillicent and then rename it\n",
    "dataUS = data_all[data_all.jobCountry == 'US']\n",
    "dataUS = dataUS[dataUS['isDradisEmployer']==1]\n",
    "dataUS = dataUS.reset_index(drop=True)\n",
    "dataUS['cost'] = dataUS.costmillicent/1e5"
   ]
  },
  {
   "cell_type": "code",
   "execution_count": 5,
   "metadata": {
    "collapsed": false
   },
   "outputs": [],
   "source": [
    "#compute week rank\n",
    "weekRank = dataUS.groupby('advertiserId')['week'].rank(ascending=True)"
   ]
  },
  {
   "cell_type": "code",
   "execution_count": 6,
   "metadata": {
    "collapsed": false
   },
   "outputs": [
    {
     "name": "stdout",
     "output_type": "stream",
     "text": [
      "(2284758, 32) (2284758,)\n"
     ]
    }
   ],
   "source": [
    "#sanity check\n",
    "print dataUS.shape, weekRank.shape"
   ]
  },
  {
   "cell_type": "code",
   "execution_count": 7,
   "metadata": {
    "collapsed": true
   },
   "outputs": [],
   "source": [
    "#add weekRank\n",
    "dataUS['week_rank'] = weekRank"
   ]
  },
  {
   "cell_type": "code",
   "execution_count": 8,
   "metadata": {
    "collapsed": false
   },
   "outputs": [
    {
     "name": "stdout",
     "output_type": "stream",
     "text": [
      "['0-', '1-49', '1000-', '150-249', '250-499', '50-149', '500-749', '750-999']\n"
     ]
    }
   ],
   "source": [
    "#clean employee count\n",
    "dataUS['employeeCount'] = dataUS['employeeCount'].apply(lambda y: '0-' if type(y)!=str else y.replace('+','-'))\n",
    "print sorted(dataUS.employeeCount.unique())\n",
    "dataUS['employeeCount'] = dataUS['employeeCount'].apply(lambda y: int(y[0:y.find('-')]))"
   ]
  },
  {
   "cell_type": "code",
   "execution_count": 9,
   "metadata": {
    "collapsed": true
   },
   "outputs": [],
   "source": [
    "# clean industry\n",
    "dataUS['industry'] = dataUS['industry'].apply(lambda y: 'Blank' if type(y)!=str else y)"
   ]
  },
  {
   "cell_type": "code",
   "execution_count": 10,
   "metadata": {
    "collapsed": false
   },
   "outputs": [
    {
     "name": "stdout",
     "output_type": "stream",
     "text": [
      "[1]\n"
     ]
    }
   ],
   "source": [
    "# check for double entries\n",
    "double = dataUS.groupby(['advertiserId','week']).count()\n",
    "print double.employeeCount.unique() # should be 1"
   ]
  },
  {
   "cell_type": "code",
   "execution_count": 11,
   "metadata": {
    "collapsed": false
   },
   "outputs": [
    {
     "data": {
      "text/plain": [
       "array(set([1, 2, 3, 4, 5, 6, 7, 8, 9, 10, 11, 12, 13, 14, 15, 16, 17, 18, 19, 20, 21, 22, 23, 24, 25, 26, 27, 28, 29, 30, 31, 32, 33, 34, 35, 36, 37, 38, 39, 40, 41, 42, 43, 44, 45, 46, 47, 48, 49, 50, 51, 52, 53, 54, 55, 56, 57, 58, 59, 60, 61, 62, 63, 64, 65, 66, 67, 68, 69, 70, 71, 72, 73, 74, 75, 76, 77, 78, 79, 80]), dtype=object)"
      ]
     },
     "execution_count": 11,
     "metadata": {},
     "output_type": "execute_result"
    }
   ],
   "source": [
    "# check how many weeks does advertiser spend\n",
    "np.array(set(dataUS.groupby('advertiserId')['week'].count().values))"
   ]
  },
  {
   "cell_type": "code",
   "execution_count": 12,
   "metadata": {
    "collapsed": false
   },
   "outputs": [
    {
     "name": "stdout",
     "output_type": "stream",
     "text": [
      "(2284758, 33)\n",
      "(2259871, 33)\n"
     ]
    }
   ],
   "source": [
    "# remove data points that does not make sense \n",
    "print dataUS.shape\n",
    "dataUS = dataUS[dataUS.week!='2016-53']\n",
    "print dataUS.shape"
   ]
  },
  {
   "cell_type": "code",
   "execution_count": 13,
   "metadata": {
    "collapsed": false
   },
   "outputs": [
    {
     "name": "stdout",
     "output_type": "stream",
     "text": [
      "spendAgeWeek_c values\n",
      "[-2, -1, 0, 1, 2, 3, 4, 5, 6, 7, 8, 9, 10, 11, 12, 13, 14, 15, 16, 17, 18, 19, 20, 21, 22, 23, 24, 25, 26, 27, 28, 29, 30, 31, 32, 33, 34, 35, 36, 37, 38, 39, 40, 41, 42, 43, 44, 45, 46, 47, 48, 49, 50, 51, 52, 53, 54, 55, 56, 57, 58, 59, 60, 61, 62, 63, 64, 65, 66, 67, 68, 69, 70, 71, 72, 73, 74, 75, 76, 77, 78, 79] 82\n",
      "Possible values for 'how many weeks an advertiser spend'\n",
      "set([1, 2, 3, 4, 5, 6, 7, 8, 9, 10, 11, 12, 13, 14, 15, 16, 17, 18, 19, 20, 21, 22, 23, 24, 25, 26, 27, 28, 29, 30, 31, 32, 33, 34, 35, 36, 37, 38, 39, 40, 41, 42, 43, 44, 45, 46, 47, 48, 49, 50, 51, 52, 53, 54, 55, 56, 57, 58, 59, 60, 61, 62, 63, 64, 65, 66, 67, 68, 69, 70, 71, 72, 73, 74, 75, 76, 77, 78, 79])\n"
     ]
    }
   ],
   "source": [
    "# Sanity check\n",
    "w = sorted(dataUS.spendAgeWeek_c.unique())\n",
    "print 'spendAgeWeek_c values'\n",
    "print w, len(w)\n",
    "print \"Possible values for 'how many weeks an advertiser spend'\"\n",
    "print np.array(set(dataUS.groupby('advertiserId')['week'].count().values))"
   ]
  },
  {
   "cell_type": "code",
   "execution_count": 14,
   "metadata": {
    "collapsed": true
   },
   "outputs": [],
   "source": [
    "#filter out SpendAgeWeek_c <0\n",
    "dataUS = dataUS[(dataUS['spendAgeWeek_c']<74)&(dataUS['spendAgeWeek_c']>=0)]"
   ]
  },
  {
   "cell_type": "code",
   "execution_count": 15,
   "metadata": {
    "collapsed": false
   },
   "outputs": [
    {
     "name": "stdout",
     "output_type": "stream",
     "text": [
      "spendAgeWeek_c values\n",
      "[0, 1, 2, 3, 4, 5, 6, 7, 8, 9, 10, 11, 12, 13, 14, 15, 16, 17, 18, 19, 20, 21, 22, 23, 24, 25, 26, 27, 28, 29, 30, 31, 32, 33, 34, 35, 36, 37, 38, 39, 40, 41, 42, 43, 44, 45, 46, 47, 48, 49, 50, 51, 52, 53, 54, 55, 56, 57, 58, 59, 60, 61, 62, 63, 64, 65, 66, 67, 68, 69, 70, 71, 72, 73] 74\n",
      "Possible values for 'how many weeks an advertiser spend'\n",
      "set([1, 2, 3, 4, 5, 6, 7, 8, 9, 10, 11, 12, 13, 14, 15, 16, 17, 18, 19, 20, 21, 22, 23, 24, 25, 26, 27, 28, 29, 30, 31, 32, 33, 34, 35, 36, 37, 38, 39, 40, 41, 42, 43, 44, 45, 46, 47, 48, 49, 50, 51, 52, 53, 54, 55, 56, 57, 58, 59, 60, 61, 62, 63, 64, 65, 66, 67, 68, 69, 70, 71, 72, 73, 74])\n"
     ]
    }
   ],
   "source": [
    "# Sanity check\n",
    "w = sorted(dataUS.spendAgeWeek_c.unique())\n",
    "print 'spendAgeWeek_c values'\n",
    "print w, len(w)\n",
    "print \"Possible values for 'how many weeks an advertiser spend'\"\n",
    "print np.array(set(dataUS.groupby('advertiserId')['week'].count().values))"
   ]
  },
  {
   "cell_type": "code",
   "execution_count": 16,
   "metadata": {
    "collapsed": false
   },
   "outputs": [
    {
     "data": {
      "text/plain": [
       "Index([u'advertiserId', u'isDradisEmployer', u'salesTouched', u'week',\n",
       "       u'costmillicent', u'jobCountry', u'company', u'employeeCount',\n",
       "       u'dateCreated', u'firstRevenueDate', u'lastRevenueDate', u'isAdAgency',\n",
       "       u'industry', u'type', u'state', u'city', u'conversionTime',\n",
       "       u'hasDradisJob', u'sid', u'kw', u'outgoingEmail', u'outgoingCall',\n",
       "       u'advertiserAgeWeek', u'spendAgeWeek', u'spendAgeWeek_c',\n",
       "       u'advertiserAgeWeek_c', u'conversionTime_c', u'sales_touch', u'source',\n",
       "       u'year', u'week_number', u'cost', u'week_rank'],\n",
       "      dtype='object')"
      ]
     },
     "execution_count": 16,
     "metadata": {},
     "output_type": "execute_result"
    }
   ],
   "source": [
    "dataUS.columns"
   ]
  },
  {
   "cell_type": "code",
   "execution_count": 17,
   "metadata": {
    "collapsed": false
   },
   "outputs": [],
   "source": [
    "dataUS.sort_values(['advertiserId', 'week'], ascending=[1, 1], inplace=True)"
   ]
  },
  {
   "cell_type": "code",
   "execution_count": 18,
   "metadata": {
    "collapsed": false
   },
   "outputs": [
    {
     "name": "stdout",
     "output_type": "stream",
     "text": [
      "270.065 1027.91784788\n"
     ]
    },
    {
     "data": {
      "image/png": "[encoded data removed]",
      "text/plain": [
       "<matplotlib.figure.Figure at 0x105049c10>"
      ]
     },
     "metadata": {},
     "output_type": "display_data"
    }
   ],
   "source": [
    "# Sanity Check\n",
    "xy = dataUS.groupby('advertiserId')['cost'].sum().values\n",
    "sns.distplot(np.log10(xy))\n",
    "print np.median(xy),np.mean(xy)"
   ]
  },
  {
   "cell_type": "code",
   "execution_count": 19,
   "metadata": {
    "collapsed": false
   },
   "outputs": [],
   "source": [
    "#pick only important columns\n",
    "data_clean = dataUS[['advertiserId','week', 'week_rank', 'spendAgeWeek_c', 'cost', 'employeeCount', 'isAdAgency',\n",
    "                 'industry', 'type', 'source', 'salesTouched']]"
   ]
  },
  {
   "cell_type": "code",
   "execution_count": 20,
   "metadata": {
    "collapsed": false
   },
   "outputs": [
    {
     "name": "stdout",
     "output_type": "stream",
     "text": [
      "(2256794, 11) (2256794, 33)\n"
     ]
    }
   ],
   "source": [
    "#sanity_check : should have the same rows\n",
    "print data_clean.shape, dataUS.shape"
   ]
  },
  {
   "cell_type": "code",
   "execution_count": 21,
   "metadata": {
    "collapsed": false
   },
   "outputs": [
    {
     "name": "stdout",
     "output_type": "stream",
     "text": [
      "Total advertisers: (224734, 10)\n",
      "Total advertisers with labels: (224734, 4)\n"
     ]
    }
   ],
   "source": [
    "# Sanity Check: Advertiser are not label twice\n",
    "advertisers = data_clean.groupby(['advertiserId']).count()\n",
    "advertisers_with_info = data_clean.groupby(['advertiserId', 'employeeCount', 'isAdAgency', 'industry',\n",
    "                                            'type', 'source', 'salesTouched']).count() \n",
    "print 'Total advertisers:', advertisers.shape\n",
    "print 'Total advertisers with labels:', advertisers_with_info.shape"
   ]
  },
  {
   "cell_type": "code",
   "execution_count": 22,
   "metadata": {
    "collapsed": false
   },
   "outputs": [
    {
     "name": "stderr",
     "output_type": "stream",
     "text": [
      "/Users/gmsardane/Library/Enthought/Canopy_64bit/User/lib/python2.7/site-packages/ipykernel/__main__.py:1: SettingWithCopyWarning: \n",
      "A value is trying to be set on a copy of a slice from a DataFrame.\n",
      "Try using .loc[row_indexer,col_indexer] = value instead\n",
      "\n",
      "See the caveats in the documentation: http://pandas.pydata.org/pandas-docs/stable/indexing.html#indexing-view-versus-copy\n",
      "  if __name__ == '__main__':\n"
     ]
    }
   ],
   "source": [
    "data_clean['first_four_weeks'] = data_clean['spendAgeWeek_c'].apply(lambda y: 1.0 if y<4 else 0.)"
   ]
  },
  {
   "cell_type": "code",
   "execution_count": 23,
   "metadata": {
    "collapsed": false
   },
   "outputs": [
    {
     "name": "stderr",
     "output_type": "stream",
     "text": [
      "/Users/gmsardane/Library/Enthought/Canopy_64bit/User/lib/python2.7/site-packages/ipykernel/__main__.py:1: SettingWithCopyWarning: \n",
      "A value is trying to be set on a copy of a slice from a DataFrame.\n",
      "Try using .loc[row_indexer,col_indexer] = value instead\n",
      "\n",
      "See the caveats in the documentation: http://pandas.pydata.org/pandas-docs/stable/indexing.html#indexing-view-versus-copy\n",
      "  if __name__ == '__main__':\n"
     ]
    }
   ],
   "source": [
    "data_clean['cost_first_four_weeks'] = data_clean['first_four_weeks']*data_clean['cost']"
   ]
  },
  {
   "cell_type": "code",
   "execution_count": 24,
   "metadata": {
    "collapsed": false
   },
   "outputs": [
    {
     "name": "stdout",
     "output_type": "stream",
     "text": [
      "(2256794, 13) (2256794, 33)\n"
     ]
    }
   ],
   "source": [
    "#sanity_check : should have the same rows\n",
    "print data_clean.shape, dataUS.shape"
   ]
  },
  {
   "cell_type": "code",
   "execution_count": 25,
   "metadata": {
    "collapsed": false
   },
   "outputs": [],
   "source": [
    "#Aggregate data\n",
    "agg_data = data_clean.groupby(['advertiserId', 'employeeCount', 'isAdAgency', 'industry',\n",
    "                                            'type', 'source', 'salesTouched']).sum() "
   ]
  },
  {
   "cell_type": "code",
   "execution_count": 26,
   "metadata": {
    "collapsed": false
   },
   "outputs": [],
   "source": [
    "agg_data.reset_index(inplace=True)"
   ]
  },
  {
   "cell_type": "code",
   "execution_count": 27,
   "metadata": {
    "collapsed": false
   },
   "outputs": [],
   "source": [
    "agg_data = agg_data[['advertiserId', 'employeeCount', 'isAdAgency', 'industry',\n",
    "                                            'type', 'source', 'salesTouched', 'cost', 'cost_first_four_weeks']]"
   ]
  },
  {
   "cell_type": "code",
   "execution_count": 28,
   "metadata": {
    "collapsed": false
   },
   "outputs": [
    {
     "data": {
      "text/html": [
       "<div>\n",
       "<table border=\"1\" class=\"dataframe\">\n",
       "  <thead>\n",
       "    <tr style=\"text-align: right;\">\n",
       "      <th></th>\n",
       "      <th>advertiserId</th>\n",
       "      <th>employeeCount</th>\n",
       "      <th>isAdAgency</th>\n",
       "      <th>industry</th>\n",
       "      <th>type</th>\n",
       "      <th>source</th>\n",
       "      <th>salesTouched</th>\n",
       "      <th>cost</th>\n",
       "      <th>cost_first_four_weeks</th>\n",
       "    </tr>\n",
       "  </thead>\n",
       "  <tbody>\n",
       "    <tr>\n",
       "      <th>0</th>\n",
       "      <td>2505904</td>\n",
       "      <td>1</td>\n",
       "      <td>0</td>\n",
       "      <td>Other</td>\n",
       "      <td>Direct Employer</td>\n",
       "      <td>organic</td>\n",
       "      <td>1</td>\n",
       "      <td>24.56</td>\n",
       "      <td>24.56</td>\n",
       "    </tr>\n",
       "    <tr>\n",
       "      <th>1</th>\n",
       "      <td>2505922</td>\n",
       "      <td>0</td>\n",
       "      <td>0</td>\n",
       "      <td>Hospitality/Travel</td>\n",
       "      <td>Direct Employer</td>\n",
       "      <td>others</td>\n",
       "      <td>0</td>\n",
       "      <td>442.49</td>\n",
       "      <td>92.28</td>\n",
       "    </tr>\n",
       "    <tr>\n",
       "      <th>2</th>\n",
       "      <td>2505985</td>\n",
       "      <td>1</td>\n",
       "      <td>0</td>\n",
       "      <td>Spam</td>\n",
       "      <td>Direct Employer</td>\n",
       "      <td>others</td>\n",
       "      <td>1</td>\n",
       "      <td>200.32</td>\n",
       "      <td>187.42</td>\n",
       "    </tr>\n",
       "    <tr>\n",
       "      <th>3</th>\n",
       "      <td>2506047</td>\n",
       "      <td>1</td>\n",
       "      <td>0</td>\n",
       "      <td>Blank</td>\n",
       "      <td>none</td>\n",
       "      <td>organic</td>\n",
       "      <td>0</td>\n",
       "      <td>11.31</td>\n",
       "      <td>11.31</td>\n",
       "    </tr>\n",
       "    <tr>\n",
       "      <th>4</th>\n",
       "      <td>2506048</td>\n",
       "      <td>1</td>\n",
       "      <td>0</td>\n",
       "      <td>Blank</td>\n",
       "      <td>Direct Employer</td>\n",
       "      <td>organic</td>\n",
       "      <td>0</td>\n",
       "      <td>320.82</td>\n",
       "      <td>115.98</td>\n",
       "    </tr>\n",
       "  </tbody>\n",
       "</table>\n",
       "</div>"
      ],
      "text/plain": [
       "   advertiserId  employeeCount  isAdAgency            industry  \\\n",
       "0       2505904              1           0               Other   \n",
       "1       2505922              0           0  Hospitality/Travel   \n",
       "2       2505985              1           0                Spam   \n",
       "3       2506047              1           0               Blank   \n",
       "4       2506048              1           0               Blank   \n",
       "\n",
       "              type   source  salesTouched    cost  cost_first_four_weeks  \n",
       "0  Direct Employer  organic             1   24.56                  24.56  \n",
       "1  Direct Employer   others             0  442.49                  92.28  \n",
       "2  Direct Employer   others             1  200.32                 187.42  \n",
       "3             none  organic             0   11.31                  11.31  \n",
       "4  Direct Employer  organic             0  320.82                 115.98  "
      ]
     },
     "execution_count": 28,
     "metadata": {},
     "output_type": "execute_result"
    }
   ],
   "source": [
    "agg_data.head()"
   ]
  },
  {
   "cell_type": "code",
   "execution_count": 29,
   "metadata": {
    "collapsed": false
   },
   "outputs": [],
   "source": [
    "cost_data = agg_data['cost'].values"
   ]
  },
  {
   "cell_type": "code",
   "execution_count": 346,
   "metadata": {
    "collapsed": false
   },
   "outputs": [
    {
     "name": "stdout",
     "output_type": "stream",
     "text": [
      "270.065 1027.91784788\n",
      "2.43146830388 2.41289335352\n",
      "270.064999954 258.75774249\n",
      "4259.62940729 4259.62940729\n"
     ]
    },
    {
     "data": {
      "image/png": "[encoded data removed]",
      "text/plain": [
       "<matplotlib.figure.Figure at 0x11e56d310>"
      ]
     },
     "metadata": {},
     "output_type": "display_data"
    }
   ],
   "source": [
    "sns.distplot(np.log10(cost_data))\n",
    "print np.median(cost_data),np.mean(cost_data)\n",
    "print np.median(np.log10(cost_data)),np.mean(np.log10(cost_data))\n",
    "print 10.**np.median(np.log10(cost_data)),10.**np.mean(np.log10(cost_data))"
   ]
  },
  {
   "cell_type": "code",
   "execution_count": 31,
   "metadata": {
    "collapsed": false
   },
   "outputs": [],
   "source": [
    "complete_data = dataUS[dataUS['spendAgeWeek_c']==73]"
   ]
  },
  {
   "cell_type": "code",
   "execution_count": 32,
   "metadata": {
    "collapsed": false
   },
   "outputs": [
    {
     "data": {
      "text/plain": [
       "(1394, 33)"
      ]
     },
     "execution_count": 32,
     "metadata": {},
     "output_type": "execute_result"
    }
   ],
   "source": [
    "complete_data.shape"
   ]
  },
  {
   "cell_type": "code",
   "execution_count": 33,
   "metadata": {
    "collapsed": true
   },
   "outputs": [],
   "source": [
    "data_with_full_run = dataUS[dataUS['advertiserId'].isin(sorted(complete_data.advertiserId.unique()))]\n",
    "data_with_full_run_early = data_with_full_run[data_with_full_run['spendAgeWeek_c']==0]"
   ]
  },
  {
   "cell_type": "code",
   "execution_count": 34,
   "metadata": {
    "collapsed": false
   },
   "outputs": [
    {
     "name": "stdout",
     "output_type": "stream",
     "text": [
      "['2015-05', '2015-06', '2015-07', '2015-08', '2015-09', '2015-10', '2015-11']\n"
     ]
    }
   ],
   "source": [
    "print sorted(data_with_full_run_early.week.unique())"
   ]
  },
  {
   "cell_type": "code",
   "execution_count": 35,
   "metadata": {
    "collapsed": true
   },
   "outputs": [],
   "source": [
    "advertiser_complete_cycle = sorted(complete_data.advertiserId.unique())"
   ]
  },
  {
   "cell_type": "code",
   "execution_count": 36,
   "metadata": {
    "collapsed": false
   },
   "outputs": [],
   "source": [
    "advertiser_incomplete_cycle = list(set(agg_data.advertiserId.unique()) - set(advertiser_complete_cycle))"
   ]
  },
  {
   "cell_type": "code",
   "execution_count": 37,
   "metadata": {
    "collapsed": false
   },
   "outputs": [
    {
     "name": "stdout",
     "output_type": "stream",
     "text": [
      "1394 223340\n"
     ]
    }
   ],
   "source": [
    "print len(advertiser_complete_cycle), len(advertiser_incomplete_cycle)"
   ]
  },
  {
   "cell_type": "markdown",
   "metadata": {},
   "source": [
    "### CLEAN DATA FINALLY!"
   ]
  },
  {
   "cell_type": "code",
   "execution_count": 143,
   "metadata": {
    "collapsed": false
   },
   "outputs": [],
   "source": [
    "test_data = agg_data[agg_data['advertiserId'].isin(advertiser_complete_cycle)]"
   ]
  },
  {
   "cell_type": "code",
   "execution_count": 276,
   "metadata": {
    "collapsed": false
   },
   "outputs": [],
   "source": [
    "to_be_predicted_data = agg_data[agg_data['advertiserId'].isin(advertiser_incomplete_cycle)]\n",
    "to_be_predicted_data_google = to_be_predicted_data[to_be_predicted_data['source'] == 'google search']"
   ]
  },
  {
   "cell_type": "code",
   "execution_count": 277,
   "metadata": {
    "collapsed": false
   },
   "outputs": [
    {
     "name": "stdout",
     "output_type": "stream",
     "text": [
      "(1394, 7) (5621, 9)\n"
     ]
    },
    {
     "data": {
      "text/html": [
       "<div>\n",
       "<table border=\"1\" class=\"dataframe\">\n",
       "  <thead>\n",
       "    <tr style=\"text-align: right;\">\n",
       "      <th></th>\n",
       "      <th>advertiserId</th>\n",
       "      <th>employeeCount</th>\n",
       "      <th>isAdAgency</th>\n",
       "      <th>industry</th>\n",
       "      <th>type</th>\n",
       "      <th>source</th>\n",
       "      <th>salesTouched</th>\n",
       "      <th>cost</th>\n",
       "      <th>cost_first_four_weeks</th>\n",
       "    </tr>\n",
       "  </thead>\n",
       "  <tbody>\n",
       "    <tr>\n",
       "      <th>0</th>\n",
       "      <td>2505904</td>\n",
       "      <td>1</td>\n",
       "      <td>0</td>\n",
       "      <td>Other</td>\n",
       "      <td>Direct Employer</td>\n",
       "      <td>organic</td>\n",
       "      <td>1</td>\n",
       "      <td>24.56</td>\n",
       "      <td>24.56</td>\n",
       "    </tr>\n",
       "    <tr>\n",
       "      <th>1</th>\n",
       "      <td>2505922</td>\n",
       "      <td>0</td>\n",
       "      <td>0</td>\n",
       "      <td>Hospitality/Travel</td>\n",
       "      <td>Direct Employer</td>\n",
       "      <td>others</td>\n",
       "      <td>0</td>\n",
       "      <td>442.49</td>\n",
       "      <td>92.28</td>\n",
       "    </tr>\n",
       "    <tr>\n",
       "      <th>2</th>\n",
       "      <td>2505985</td>\n",
       "      <td>1</td>\n",
       "      <td>0</td>\n",
       "      <td>Spam</td>\n",
       "      <td>Direct Employer</td>\n",
       "      <td>others</td>\n",
       "      <td>1</td>\n",
       "      <td>200.32</td>\n",
       "      <td>187.42</td>\n",
       "    </tr>\n",
       "    <tr>\n",
       "      <th>3</th>\n",
       "      <td>2506047</td>\n",
       "      <td>1</td>\n",
       "      <td>0</td>\n",
       "      <td>Blank</td>\n",
       "      <td>none</td>\n",
       "      <td>organic</td>\n",
       "      <td>0</td>\n",
       "      <td>11.31</td>\n",
       "      <td>11.31</td>\n",
       "    </tr>\n",
       "    <tr>\n",
       "      <th>4</th>\n",
       "      <td>2506048</td>\n",
       "      <td>1</td>\n",
       "      <td>0</td>\n",
       "      <td>Blank</td>\n",
       "      <td>Direct Employer</td>\n",
       "      <td>organic</td>\n",
       "      <td>0</td>\n",
       "      <td>320.82</td>\n",
       "      <td>115.98</td>\n",
       "    </tr>\n",
       "  </tbody>\n",
       "</table>\n",
       "</div>"
      ],
      "text/plain": [
       "   advertiserId  employeeCount  isAdAgency            industry  \\\n",
       "0       2505904              1           0               Other   \n",
       "1       2505922              0           0  Hospitality/Travel   \n",
       "2       2505985              1           0                Spam   \n",
       "3       2506047              1           0               Blank   \n",
       "4       2506048              1           0               Blank   \n",
       "\n",
       "              type   source  salesTouched    cost  cost_first_four_weeks  \n",
       "0  Direct Employer  organic             1   24.56                  24.56  \n",
       "1  Direct Employer   others             0  442.49                  92.28  \n",
       "2  Direct Employer   others             1  200.32                 187.42  \n",
       "3             none  organic             0   11.31                  11.31  \n",
       "4  Direct Employer  organic             0  320.82                 115.98  "
      ]
     },
     "execution_count": 277,
     "metadata": {},
     "output_type": "execute_result"
    }
   ],
   "source": [
    "print test_data.shape, to_be_predicted_data_google.shape\n",
    "to_be_predicted_data.head()"
   ]
  },
  {
   "cell_type": "markdown",
   "metadata": {
    "collapsed": false
   },
   "source": [
    "### Important Cols\n",
    "advertiserId\n",
    "week\n",
    "costmillicent"
   ]
  },
  {
   "cell_type": "code",
   "execution_count": 146,
   "metadata": {
    "collapsed": true
   },
   "outputs": [],
   "source": [
    "#Make dummies for categorical features.\n",
    "def preprocess_features(X):\n",
    "    ''' Preprocesses the student data and converts non-numeric binary variables into\n",
    "        binary (0/1) variables. Converts categorical variables into dummy variables. '''\n",
    "    \n",
    "    # Initialize new output DataFrame\n",
    "    output = pd.DataFrame(index = X.index)\n",
    "\n",
    "    # Investigate each feature column for the data\n",
    "    for col, col_data in X.iteritems():\n",
    "\n",
    "        # If data type is non-numeric, replace all yes/no values with 1/0\n",
    "        if col_data.dtype == object:\n",
    "            col_data = col_data.replace(['yes', 'no'], [1, 0])\n",
    "\n",
    "        # If data type is categorical, convert to dummy variables\n",
    "        if col_data.dtype == object:\n",
    "            # Example: 'GarageCond' => 'GarageCond_Ex', etc.\n",
    "            col_data = pd.get_dummies(col_data, prefix = col)  \n",
    "        if col == 'cost_first_four_weeks':\n",
    "            col_data = col_data.replace(0, 1)\n",
    "        # Collect the revised columns\n",
    "        output = output.join(col_data)\n",
    "    \n",
    "    return output"
   ]
  },
  {
   "cell_type": "code",
   "execution_count": 147,
   "metadata": {
    "collapsed": true
   },
   "outputs": [],
   "source": [
    "def remove_nans(df):\n",
    "    nan_df = df[pd.isnull(df).any(axis=1)]\n",
    "    for col in nan_df.columns:\n",
    "        tmp = nan_df[col][pd.isnull(nan_df[col])]\n",
    "        if len(tmp) >= 1:\n",
    "            #print \"These features have NULLs to signify the absence of such a feature:\"\n",
    "            print col, len(tmp)\n",
    "            df[col] = df[col].fillna(1.)\n",
    "    print np.shape(df)\n",
    "    return df"
   ]
  },
  {
   "cell_type": "code",
   "execution_count": 148,
   "metadata": {
    "collapsed": true
   },
   "outputs": [],
   "source": [
    "## Define and remove repeat outliers\n",
    "def remove_outliers(df):\n",
    "    outliers  = []\n",
    "    for feature in df.columns:\n",
    "        \n",
    "        # Calculate Q1 (25th percentile of the data) for the given feature\n",
    "        Q1 = np.percentile(df[feature], 25)\n",
    "        \n",
    "        # Calculate Q3 (75th percentile of the data) for the given feature\n",
    "        Q3 = np.percentile(df[feature], 75)\n",
    "        \n",
    "        # Use the interquartile range to calculate an outlier step (1.5 times the interquartile range)\n",
    "        step = 1.5*(Q3-Q1)\n",
    "        \n",
    "        outliers = list(outliers + df[~((df[feature] >= Q1 - step) & \\\n",
    "                                                  (df[feature] <= Q3 + step))].index.tolist())\n",
    "    \n",
    "    # Select the indices for data points you wish to remove\n",
    "    from collections import Counter\n",
    "    counts = Counter(outliers)\n",
    "    outliers = sorted([value for value, count in counts.items() if count > 2])\n",
    "    return outliers"
   ]
  },
  {
   "cell_type": "code",
   "execution_count": 278,
   "metadata": {
    "collapsed": false
   },
   "outputs": [
    {
     "name": "stdout",
     "output_type": "stream",
     "text": [
      "(5621, 6)\n",
      "(5621, 9)\n"
     ]
    },
    {
     "data": {
      "text/html": [
       "<div>\n",
       "<table border=\"1\" class=\"dataframe\">\n",
       "  <thead>\n",
       "    <tr style=\"text-align: right;\">\n",
       "      <th></th>\n",
       "      <th>employeeCount</th>\n",
       "      <th>isAdAgency</th>\n",
       "      <th>type_Direct Employer</th>\n",
       "      <th>type_Other</th>\n",
       "      <th>type_Staffing Agency</th>\n",
       "      <th>type_none</th>\n",
       "      <th>salesTouched</th>\n",
       "      <th>cost</th>\n",
       "      <th>cost_first_four_weeks</th>\n",
       "    </tr>\n",
       "  </thead>\n",
       "  <tbody>\n",
       "    <tr>\n",
       "      <th>26</th>\n",
       "      <td>250</td>\n",
       "      <td>0</td>\n",
       "      <td>1.0</td>\n",
       "      <td>0.0</td>\n",
       "      <td>0.0</td>\n",
       "      <td>0.0</td>\n",
       "      <td>1</td>\n",
       "      <td>191.75</td>\n",
       "      <td>131.52</td>\n",
       "    </tr>\n",
       "    <tr>\n",
       "      <th>87</th>\n",
       "      <td>0</td>\n",
       "      <td>0</td>\n",
       "      <td>1.0</td>\n",
       "      <td>0.0</td>\n",
       "      <td>0.0</td>\n",
       "      <td>0.0</td>\n",
       "      <td>1</td>\n",
       "      <td>409.36</td>\n",
       "      <td>381.85</td>\n",
       "    </tr>\n",
       "    <tr>\n",
       "      <th>167</th>\n",
       "      <td>1</td>\n",
       "      <td>0</td>\n",
       "      <td>0.0</td>\n",
       "      <td>0.0</td>\n",
       "      <td>0.0</td>\n",
       "      <td>1.0</td>\n",
       "      <td>0</td>\n",
       "      <td>60.58</td>\n",
       "      <td>60.58</td>\n",
       "    </tr>\n",
       "    <tr>\n",
       "      <th>466</th>\n",
       "      <td>1</td>\n",
       "      <td>0</td>\n",
       "      <td>0.0</td>\n",
       "      <td>0.0</td>\n",
       "      <td>0.0</td>\n",
       "      <td>1.0</td>\n",
       "      <td>0</td>\n",
       "      <td>109.97</td>\n",
       "      <td>109.97</td>\n",
       "    </tr>\n",
       "    <tr>\n",
       "      <th>927</th>\n",
       "      <td>1</td>\n",
       "      <td>0</td>\n",
       "      <td>1.0</td>\n",
       "      <td>0.0</td>\n",
       "      <td>0.0</td>\n",
       "      <td>0.0</td>\n",
       "      <td>0</td>\n",
       "      <td>288.85</td>\n",
       "      <td>287.01</td>\n",
       "    </tr>\n",
       "  </tbody>\n",
       "</table>\n",
       "</div>"
      ],
      "text/plain": [
       "     employeeCount  isAdAgency  type_Direct Employer  type_Other  \\\n",
       "26             250           0                   1.0         0.0   \n",
       "87               0           0                   1.0         0.0   \n",
       "167              1           0                   0.0         0.0   \n",
       "466              1           0                   0.0         0.0   \n",
       "927              1           0                   1.0         0.0   \n",
       "\n",
       "     type_Staffing Agency  type_none  salesTouched    cost  \\\n",
       "26                    0.0        0.0             1  191.75   \n",
       "87                    0.0        0.0             1  409.36   \n",
       "167                   0.0        1.0             0   60.58   \n",
       "466                   0.0        1.0             0  109.97   \n",
       "927                   0.0        0.0             0  288.85   \n",
       "\n",
       "     cost_first_four_weeks  \n",
       "26                  131.52  \n",
       "87                  381.85  \n",
       "167                  60.58  \n",
       "466                 109.97  \n",
       "927                 287.01  "
      ]
     },
     "execution_count": 278,
     "metadata": {},
     "output_type": "execute_result"
    }
   ],
   "source": [
    "## Preprocess features with NaNs and Catgoricals\n",
    "test_data = to_be_predicted_data_google.drop(['advertiserId', 'industry', 'source'], axis=1)\n",
    "data_clean = remove_nans(test_data)\n",
    "data_clean = preprocess_features(test_data)\n",
    "print data_clean.shape\n",
    "data_clean.head()"
   ]
  },
  {
   "cell_type": "code",
   "execution_count": 287,
   "metadata": {
    "collapsed": false
   },
   "outputs": [],
   "source": []
  },
  {
   "cell_type": "code",
   "execution_count": 280,
   "metadata": {
    "collapsed": true
   },
   "outputs": [],
   "source": [
    "from sklearn.metrics import r2_score, mean_squared_error, make_scorer\n",
    "def performance_metric(y_true, y_predict):\n",
    "    \"\"\" Calculates and returns the performance score between \n",
    "        true and predicted values based on the metric chosen. \"\"\"\n",
    "    \n",
    "    # Calculate the performance score between 'y_true' and 'y_predict'\n",
    "    score = r2_score(y_true, y_predict)\n",
    "    \n",
    "    # Return the score\n",
    "    return score\n",
    "\n",
    "def create_sets(X, y):\n",
    "    # Split into training and testing components first\n",
    "    \n",
    "    # Set the number of training points\n",
    "    num_train = int(round(0.80*len(X)))\n",
    "    \n",
    "    # Set the number of testing points\n",
    "    num_test = X.shape[0] - num_train\n",
    "    \n",
    "    # Shuffle and split the dataset into the number of training and testing points above\n",
    "    X_train, X_test, y_train, y_test = train_test_split(X, y, train_size = num_train, random_state=123458)\n",
    "    \n",
    "    # Show the results of the split\n",
    "    print \"Training set has {} samples.\".format(X_train.shape[0])\n",
    "    print \"Testing set has {} samples.\".format(X_test.shape[0])\n",
    "    return X_train, X_test, y_train, y_test\n"
   ]
  },
  {
   "cell_type": "code",
   "execution_count": 281,
   "metadata": {
    "collapsed": true
   },
   "outputs": [],
   "source": [
    "def fit_model(X, y, n_estimators = 1000, min_samples_leaf = 1, min_samples_split =2):\n",
    "    cv_sets = ShuffleSplit(X.shape[0], n_iter = 10, test_size = 0.20)\n",
    "    regressor = GradientBoostingRegressor(loss= 'lad', n_estimators=n_estimators,min_samples_leaf = 1, \n",
    "                                          min_samples_split =2,random_state=102345)\n",
    "\n",
    "    # Create a dictionary for the parameter 'max_depth' with a range from 1 to 10\n",
    "    params = {'learning_rate': [0.01, 0.02, 0.05, 0.1], # 'n_estimators': [100, 500, 1000],\n",
    "              'max_depth': [2, 3, 4, 5, 6], 'min_samples_leaf':  [2,3,5,7]}\n",
    "    # Transform 'performance_metric' into a scoring function using 'make_scorer' \n",
    "    scoring_fnc = make_scorer(performance_metric)\n",
    "    # Create the grid search object\n",
    "    grid = GridSearchCV(regressor, params, cv=cv_sets, scoring = scoring_fnc)#, verbose=10)\n",
    "    # Fit the grid search object to the data to compute the optimal model\n",
    "    grid = grid.fit(X, y)\n",
    "    # Print the optimal model after fitting the data\n",
    "    print 'The cross-validation scores = {:.2f}'.format(grid.best_score_)\n",
    "    print grid.best_estimator_\n",
    "    return grid"
   ]
  },
  {
   "cell_type": "code",
   "execution_count": 299,
   "metadata": {
    "collapsed": false
   },
   "outputs": [
    {
     "name": "stdout",
     "output_type": "stream",
     "text": [
      "(5621, 9)\n"
     ]
    },
    {
     "data": {
      "text/html": [
       "<div>\n",
       "<table border=\"1\" class=\"dataframe\">\n",
       "  <thead>\n",
       "    <tr style=\"text-align: right;\">\n",
       "      <th></th>\n",
       "      <th>advertiserId</th>\n",
       "      <th>employeeCount</th>\n",
       "      <th>isAdAgency</th>\n",
       "      <th>industry_Accounting/Consulting</th>\n",
       "      <th>industry_Advertising/Marketing</th>\n",
       "      <th>industry_Agriculture</th>\n",
       "      <th>industry_Arts/Entertainment/Recreation</th>\n",
       "      <th>industry_Automotive</th>\n",
       "      <th>industry_Beauty/Wellness</th>\n",
       "      <th>industry_Blank</th>\n",
       "      <th>...</th>\n",
       "      <th>industry_Technology/Information</th>\n",
       "      <th>industry_Telecom</th>\n",
       "      <th>industry_Transportation/Logistics</th>\n",
       "      <th>type_Direct Employer</th>\n",
       "      <th>type_Other</th>\n",
       "      <th>type_Staffing Agency</th>\n",
       "      <th>type_none</th>\n",
       "      <th>source_google search</th>\n",
       "      <th>salesTouched</th>\n",
       "      <th>cost_first_four_weeks</th>\n",
       "    </tr>\n",
       "  </thead>\n",
       "  <tbody>\n",
       "    <tr>\n",
       "      <th>26</th>\n",
       "      <td>2507539</td>\n",
       "      <td>250</td>\n",
       "      <td>0</td>\n",
       "      <td>0.0</td>\n",
       "      <td>0.0</td>\n",
       "      <td>0.0</td>\n",
       "      <td>0.0</td>\n",
       "      <td>0.0</td>\n",
       "      <td>0.0</td>\n",
       "      <td>0.0</td>\n",
       "      <td>...</td>\n",
       "      <td>0.0</td>\n",
       "      <td>0.0</td>\n",
       "      <td>0.0</td>\n",
       "      <td>1.0</td>\n",
       "      <td>0.0</td>\n",
       "      <td>0.0</td>\n",
       "      <td>0.0</td>\n",
       "      <td>1.0</td>\n",
       "      <td>1</td>\n",
       "      <td>131.52</td>\n",
       "    </tr>\n",
       "    <tr>\n",
       "      <th>87</th>\n",
       "      <td>2508546</td>\n",
       "      <td>0</td>\n",
       "      <td>0</td>\n",
       "      <td>0.0</td>\n",
       "      <td>0.0</td>\n",
       "      <td>0.0</td>\n",
       "      <td>0.0</td>\n",
       "      <td>0.0</td>\n",
       "      <td>0.0</td>\n",
       "      <td>0.0</td>\n",
       "      <td>...</td>\n",
       "      <td>0.0</td>\n",
       "      <td>0.0</td>\n",
       "      <td>1.0</td>\n",
       "      <td>1.0</td>\n",
       "      <td>0.0</td>\n",
       "      <td>0.0</td>\n",
       "      <td>0.0</td>\n",
       "      <td>1.0</td>\n",
       "      <td>1</td>\n",
       "      <td>381.85</td>\n",
       "    </tr>\n",
       "    <tr>\n",
       "      <th>167</th>\n",
       "      <td>2512815</td>\n",
       "      <td>1</td>\n",
       "      <td>0</td>\n",
       "      <td>0.0</td>\n",
       "      <td>0.0</td>\n",
       "      <td>0.0</td>\n",
       "      <td>0.0</td>\n",
       "      <td>0.0</td>\n",
       "      <td>0.0</td>\n",
       "      <td>1.0</td>\n",
       "      <td>...</td>\n",
       "      <td>0.0</td>\n",
       "      <td>0.0</td>\n",
       "      <td>0.0</td>\n",
       "      <td>0.0</td>\n",
       "      <td>0.0</td>\n",
       "      <td>0.0</td>\n",
       "      <td>1.0</td>\n",
       "      <td>1.0</td>\n",
       "      <td>0</td>\n",
       "      <td>60.58</td>\n",
       "    </tr>\n",
       "    <tr>\n",
       "      <th>466</th>\n",
       "      <td>2516024</td>\n",
       "      <td>1</td>\n",
       "      <td>0</td>\n",
       "      <td>0.0</td>\n",
       "      <td>0.0</td>\n",
       "      <td>0.0</td>\n",
       "      <td>0.0</td>\n",
       "      <td>0.0</td>\n",
       "      <td>0.0</td>\n",
       "      <td>1.0</td>\n",
       "      <td>...</td>\n",
       "      <td>0.0</td>\n",
       "      <td>0.0</td>\n",
       "      <td>0.0</td>\n",
       "      <td>0.0</td>\n",
       "      <td>0.0</td>\n",
       "      <td>0.0</td>\n",
       "      <td>1.0</td>\n",
       "      <td>1.0</td>\n",
       "      <td>0</td>\n",
       "      <td>109.97</td>\n",
       "    </tr>\n",
       "    <tr>\n",
       "      <th>927</th>\n",
       "      <td>2524198</td>\n",
       "      <td>1</td>\n",
       "      <td>0</td>\n",
       "      <td>0.0</td>\n",
       "      <td>0.0</td>\n",
       "      <td>0.0</td>\n",
       "      <td>0.0</td>\n",
       "      <td>0.0</td>\n",
       "      <td>0.0</td>\n",
       "      <td>0.0</td>\n",
       "      <td>...</td>\n",
       "      <td>1.0</td>\n",
       "      <td>0.0</td>\n",
       "      <td>0.0</td>\n",
       "      <td>1.0</td>\n",
       "      <td>0.0</td>\n",
       "      <td>0.0</td>\n",
       "      <td>0.0</td>\n",
       "      <td>1.0</td>\n",
       "      <td>0</td>\n",
       "      <td>287.01</td>\n",
       "    </tr>\n",
       "  </tbody>\n",
       "</table>\n",
       "<p>5 rows × 40 columns</p>\n",
       "</div>"
      ],
      "text/plain": [
       "     advertiserId  employeeCount  isAdAgency  industry_Accounting/Consulting  \\\n",
       "26        2507539            250           0                             0.0   \n",
       "87        2508546              0           0                             0.0   \n",
       "167       2512815              1           0                             0.0   \n",
       "466       2516024              1           0                             0.0   \n",
       "927       2524198              1           0                             0.0   \n",
       "\n",
       "     industry_Advertising/Marketing  industry_Agriculture  \\\n",
       "26                              0.0                   0.0   \n",
       "87                              0.0                   0.0   \n",
       "167                             0.0                   0.0   \n",
       "466                             0.0                   0.0   \n",
       "927                             0.0                   0.0   \n",
       "\n",
       "     industry_Arts/Entertainment/Recreation  industry_Automotive  \\\n",
       "26                                      0.0                  0.0   \n",
       "87                                      0.0                  0.0   \n",
       "167                                     0.0                  0.0   \n",
       "466                                     0.0                  0.0   \n",
       "927                                     0.0                  0.0   \n",
       "\n",
       "     industry_Beauty/Wellness  industry_Blank          ...            \\\n",
       "26                        0.0             0.0          ...             \n",
       "87                        0.0             0.0          ...             \n",
       "167                       0.0             1.0          ...             \n",
       "466                       0.0             1.0          ...             \n",
       "927                       0.0             0.0          ...             \n",
       "\n",
       "     industry_Technology/Information  industry_Telecom  \\\n",
       "26                               0.0               0.0   \n",
       "87                               0.0               0.0   \n",
       "167                              0.0               0.0   \n",
       "466                              0.0               0.0   \n",
       "927                              1.0               0.0   \n",
       "\n",
       "     industry_Transportation/Logistics  type_Direct Employer  type_Other  \\\n",
       "26                                 0.0                   1.0         0.0   \n",
       "87                                 1.0                   1.0         0.0   \n",
       "167                                0.0                   0.0         0.0   \n",
       "466                                0.0                   0.0         0.0   \n",
       "927                                0.0                   1.0         0.0   \n",
       "\n",
       "     type_Staffing Agency  type_none  source_google search  salesTouched  \\\n",
       "26                    0.0        0.0                   1.0             1   \n",
       "87                    0.0        0.0                   1.0             1   \n",
       "167                   0.0        1.0                   1.0             0   \n",
       "466                   0.0        1.0                   1.0             0   \n",
       "927                   0.0        0.0                   1.0             0   \n",
       "\n",
       "     cost_first_four_weeks  \n",
       "26                  131.52  \n",
       "87                  381.85  \n",
       "167                  60.58  \n",
       "466                 109.97  \n",
       "927                 287.01  \n",
       "\n",
       "[5 rows x 40 columns]"
      ]
     },
     "execution_count": 299,
     "metadata": {},
     "output_type": "execute_result"
    }
   ],
   "source": [
    "to_be_predicted_data_google_clean = remove_nans(to_be_predicted_data_google)\n",
    "to_be_predicted_data_google_clean = preprocess_features(to_be_predicted_data_google_clean)\n",
    "to_be_predicted_data_google_clean_y = to_be_predicted_data_google_clean['cost']\n",
    "to_be_predicted_data_google_clean_X = to_be_predicted_data_google_clean.drop(['cost'], axis=1)\n",
    "to_be_predicted_data_google_clean_X.head()\n",
    "#to_be_predicted_data_google_clean_X = to_be_predicted_data_google_clean.drop(['cost' ])"
   ]
  },
  {
   "cell_type": "code",
   "execution_count": 312,
   "metadata": {
    "collapsed": false
   },
   "outputs": [
    {
     "data": {
      "image/png": "[encoded data removed]",
      "text/plain": [
       "<matplotlib.figure.Figure at 0x11ce79c10>"
      ]
     },
     "metadata": {},
     "output_type": "display_data"
    }
   ],
   "source": [
    "import visuals as vs\n",
    "sns.set_context(\"notebook\", font_scale=1.5, rc={\"lines.linewidth\": 2.5})\n",
    "sns.set_style(\"white\")\n",
    "vs.ModelLearning(to_be_predicted_data_clean_cluster.drop('cost_first_four_weeks', axis=1), to_be_predicted_data_clean_cluster.cost_first_four_weeks)\n"
   ]
  },
  {
   "cell_type": "code",
   "execution_count": 341,
   "metadata": {
    "collapsed": false
   },
   "outputs": [
    {
     "name": "stdout",
     "output_type": "stream",
     "text": [
      "Training set has 4497 samples.\n",
      "Testing set has 1124 samples.\n"
     ]
    },
    {
     "data": {
      "text/plain": [
       "Lasso(alpha=0.5, copy_X=True, fit_intercept=True, max_iter=1000,\n",
       "   normalize=False, positive=False, precompute=False, random_state=None,\n",
       "   selection='cyclic', tol=0.0001, warm_start=False)"
      ]
     },
     "execution_count": 341,
     "metadata": {},
     "output_type": "execute_result"
    }
   ],
   "source": [
    "from sklearn.decomposition import PCA\n",
    "pca = PCA(n_components=2)\n",
    "pca.fit(to_be_predicted_data_google_clean)\n",
    "# Transform the good data using the PCA fit above\n",
    "reduced_data = pca.transform(to_be_predicted_data_google_clean)\n",
    "\n",
    "## Train-test split\n",
    "from sklearn.ensemble import RandomForestRegressor, AdaBoostRegressor, GradientBoostingRegressor\n",
    "from sklearn.cross_validation import train_test_split, ShuffleSplit\n",
    "from sklearn.grid_search import GridSearchCV\n",
    "\n",
    "from sklearn import linear_model\n",
    "reg = linear_model.Lasso(alpha = 0.5)\n",
    "X_train, X_test, y_train, y_test = create_sets(to_be_predicted_data_google_clean_X, \n",
    "                                               to_be_predicted_data_google_clean_y)\n",
    "reg.fit(X_train, y_train)"
   ]
  },
  {
   "cell_type": "code",
   "execution_count": null,
   "metadata": {
    "collapsed": false
   },
   "outputs": [],
   "source": []
  },
  {
   "cell_type": "code",
   "execution_count": 342,
   "metadata": {
    "collapsed": false
   },
   "outputs": [
    {
     "name": "stdout",
     "output_type": "stream",
     "text": [
      "The R$^2$ = 0.32\n",
      "The  RMSE = 5.62e+05.\n"
     ]
    },
    {
     "data": {
      "text/plain": [
       "196229     125.85\n",
       "177236      40.93\n",
       "40822     1370.47\n",
       "73034      365.46\n",
       "113811    1497.97\n",
       "Name: cost, dtype: float64"
      ]
     },
     "execution_count": 342,
     "metadata": {},
     "output_type": "execute_result"
    }
   ],
   "source": [
    "pred = reg.predict(X_test)\n",
    "print 'The R$^2$ = {:.2f}'.format(r2_score(pred, y_test))\n",
    "print 'The  RMSE = {:.2e}.'.format(mean_squared_error(pred, y_test))\n",
    "y_test.head()"
   ]
  },
  {
   "cell_type": "code",
   "execution_count": 331,
   "metadata": {
    "collapsed": false
   },
   "outputs": [
    {
     "data": {
      "text/plain": [
       "(array([    0.,  1000.,  2000.,  3000.,  4000.,  5000.]),\n",
       " <a list of 6 Text yticklabel objects>)"
      ]
     },
     "execution_count": 331,
     "metadata": {},
     "output_type": "execute_result"
    },
    {
     "data": {
      "image/png": "[encoded data removed]",
      "text/plain": [
       "<matplotlib.figure.Figure at 0x11e58bb10>"
      ]
     },
     "metadata": {},
     "output_type": "display_data"
    }
   ],
   "source": [
    "sns.set_style(\"ticks\", {\"xtick.major.size\": 8, \"ytick.major.size\": 8})\n",
    "sns.set_style({\"xtick.direction\": \"in\",\"ytick.direction\": \"in\"})\n",
    "plt.scatter(y_test, pred, alpha = 0.5)#, s = np.abs(y_test-pred)/y_test, color = 'red')\n",
    "plt.xlabel(r\"True Sale Price [$\\times 10^{5} $ USD]\", fontsize = 30);\n",
    "plt.ylabel(r\"Predicted [$\\times 10^{5} $ USD]\", fontsize = 30);\n",
    "plt.minorticks_on()\n",
    "plt.tight_layout()\n",
    "plt.plot(np.arange(0,10, 1), np.arange(0,10, 1), 'k--')\n",
    "plt.tick_params('both', length=8, width=2, which='minor');\n",
    "plt.tick_params('both', length=12, width=3, which='major');\n",
    "plt.xlim(0,  0.5e4)\n",
    "plt.ylim(0,  0.5e4)\n",
    "plt.xticks(fontsize=20)\n",
    "plt.yticks(fontsize=20)\n",
    "\n",
    "#plt.savefig(\"FinalModel_linear_all.pdf\")"
   ]
  },
  {
   "cell_type": "code",
   "execution_count": null,
   "metadata": {
    "collapsed": true
   },
   "outputs": [],
   "source": [
    "reg0.fea"
   ]
  },
  {
   "cell_type": "code",
   "execution_count": 131,
   "metadata": {
    "collapsed": false
   },
   "outputs": [
    {
     "name": "stdout",
     "output_type": "stream",
     "text": [
      "(223340, 8)\n",
      "Index([u'employeeCount', u'isAdAgency', u'industry_Accounting/Consulting',\n",
      "       u'industry_Advertising/Marketing', u'industry_Agriculture',\n",
      "       u'industry_Arts/Entertainment/Recreation', u'industry_Automotive',\n",
      "       u'industry_Beauty/Wellness', u'industry_Blank',\n",
      "       u'industry_Construction/Engineering', u'industry_Defense/Security',\n",
      "       u'industry_Education', u'industry_Energy/Utilities',\n",
      "       u'industry_Financial Services/Banking',\n",
      "       u'industry_Food/Beverage Services', u'industry_Fraud/Scam',\n",
      "       u'industry_Government/Military', u'industry_Health Care/Medical',\n",
      "       u'industry_Hospitality/Travel', u'industry_Insurance',\n",
      "       u'industry_Job Board (General)', u'industry_Job Seeker',\n",
      "       u'industry_Legal', u'industry_Manufacturing',\n",
      "       u'industry_Media/Newspaper', u'industry_Non-Profit/Association',\n",
      "       u'industry_Other', u'industry_Real Estate',\n",
      "       u'industry_Retail/Consumer Products', u'industry_Spam',\n",
      "       u'industry_Staffing Firm (General)', u'industry_Technology/Information',\n",
      "       u'industry_Telecom', u'industry_Transportation/Logistics',\n",
      "       u'industry_Work at Home', u'industry_XO/S/JS', u'type_Direct Employer',\n",
      "       u'type_Job Board', u'type_Other', u'type_Staffing Agency', u'type_none',\n",
      "       u'source_direct', u'source_facebook', u'source_google content',\n",
      "       u'source_google search', u'source_msn', u'source_organic',\n",
      "       u'source_others', u'source_publisher', u'salesTouched', u'cost',\n",
      "       u'cost_first_four_weeks'],\n",
      "      dtype='object')\n"
     ]
    }
   ],
   "source": [
    "## Preprocess features with NaNs and Catgoricals\n",
    "tmp = to_be_predicted_data.drop(['advertiserId'], axis=1)\n",
    "to_be_predicted_data_clean = remove_nans(tmp)\n",
    "to_be_predicted_data_clean = preprocess_features(to_be_predicted_data_clean)\n",
    "print to_be_predicted_data_clean.columns"
   ]
  },
  {
   "cell_type": "code",
   "execution_count": 344,
   "metadata": {
    "collapsed": false
   },
   "outputs": [
    {
     "data": {
      "text/plain": [
       "(5621, 2)"
      ]
     },
     "execution_count": 344,
     "metadata": {},
     "output_type": "execute_result"
    }
   ],
   "source": [
    "np.shape(reduced_data)"
   ]
  },
  {
   "cell_type": "code",
   "execution_count": 345,
   "metadata": {
    "collapsed": false
   },
   "outputs": [
    {
     "ename": "IndexError",
     "evalue": "index 560 is out of bounds for axis 1 with size 560",
     "output_type": "error",
     "traceback": [
      "\u001b[0;31m---------------------------------------------------------------------------\u001b[0m",
      "\u001b[0;31mIndexError\u001b[0m                                Traceback (most recent call last)",
      "\u001b[0;32m<ipython-input-345-1a08aa0c303a>\u001b[0m in \u001b[0;36m<module>\u001b[0;34m()\u001b[0m\n\u001b[1;32m     39\u001b[0m \u001b[0my_pred\u001b[0m \u001b[0;34m=\u001b[0m \u001b[0maffinity_propagation\u001b[0m\u001b[0;34m.\u001b[0m\u001b[0mpredict\u001b[0m\u001b[0;34m(\u001b[0m\u001b[0mreduced_data\u001b[0m\u001b[0;34m)\u001b[0m\u001b[0;34m\u001b[0m\u001b[0m\n\u001b[1;32m     40\u001b[0m \u001b[0mcenter_colors\u001b[0m \u001b[0;34m=\u001b[0m \u001b[0mcolors\u001b[0m\u001b[0;34m[\u001b[0m\u001b[0;34m:\u001b[0m\u001b[0mlen\u001b[0m\u001b[0;34m(\u001b[0m\u001b[0mcenters\u001b[0m\u001b[0;34m)\u001b[0m\u001b[0;34m]\u001b[0m\u001b[0;34m\u001b[0m\u001b[0m\n\u001b[0;32m---> 41\u001b[0;31m \u001b[0mplt\u001b[0m\u001b[0;34m.\u001b[0m\u001b[0mscatter\u001b[0m\u001b[0;34m(\u001b[0m\u001b[0mreduced_data\u001b[0m\u001b[0;34m[\u001b[0m\u001b[0;34m:\u001b[0m\u001b[0;34m,\u001b[0m \u001b[0;36m0\u001b[0m\u001b[0;34m]\u001b[0m\u001b[0;34m,\u001b[0m \u001b[0mreduced_data\u001b[0m\u001b[0;34m[\u001b[0m\u001b[0;34m:\u001b[0m\u001b[0;34m,\u001b[0m \u001b[0;36m1\u001b[0m\u001b[0;34m]\u001b[0m\u001b[0;34m,\u001b[0m \u001b[0mcolor\u001b[0m\u001b[0;34m=\u001b[0m\u001b[0mcolors\u001b[0m\u001b[0;34m[\u001b[0m\u001b[0my_pred\u001b[0m\u001b[0;34m]\u001b[0m\u001b[0;34m.\u001b[0m\u001b[0mtolist\u001b[0m\u001b[0;34m(\u001b[0m\u001b[0;34m)\u001b[0m\u001b[0;34m,\u001b[0m \u001b[0ms\u001b[0m\u001b[0;34m=\u001b[0m\u001b[0;36m20\u001b[0m\u001b[0;34m)\u001b[0m\u001b[0;34m\u001b[0m\u001b[0m\n\u001b[0m\u001b[1;32m     42\u001b[0m \u001b[0mplt\u001b[0m\u001b[0;34m.\u001b[0m\u001b[0mscatter\u001b[0m\u001b[0;34m(\u001b[0m\u001b[0mcenters\u001b[0m\u001b[0;34m[\u001b[0m\u001b[0;34m:\u001b[0m\u001b[0;34m,\u001b[0m \u001b[0;36m0\u001b[0m\u001b[0;34m]\u001b[0m\u001b[0;34m,\u001b[0m \u001b[0mcenters\u001b[0m\u001b[0;34m[\u001b[0m\u001b[0;34m:\u001b[0m\u001b[0;34m,\u001b[0m \u001b[0;36m1\u001b[0m\u001b[0;34m]\u001b[0m\u001b[0;34m,\u001b[0m \u001b[0ms\u001b[0m\u001b[0;34m=\u001b[0m\u001b[0;36m100\u001b[0m\u001b[0;34m,\u001b[0m \u001b[0mc\u001b[0m\u001b[0;34m=\u001b[0m\u001b[0mcenter_colors\u001b[0m\u001b[0;34m)\u001b[0m\u001b[0;34m\u001b[0m\u001b[0m\n\u001b[1;32m     43\u001b[0m \u001b[0;34m\u001b[0m\u001b[0m\n",
      "\u001b[0;31mIndexError\u001b[0m: index 560 is out of bounds for axis 1 with size 560"
     ]
    }
   ],
   "source": [
    "#to_be_predicted_data_clean_y = to_be_predicted_data_clean['cost']\n",
    "#to_be_predicted_data_clean_X = to_be_predicted_data_clean[['cost_first_four_weeks', 'employeeCount']]\n",
    "#np.shape(to_be_predicted_data_clean)\n",
    "from sklearn.preprocessing import StandardScaler\n",
    "from sklearn import cluster\n",
    "from sklearn.neighbors import kneighbors_graph\n",
    "colors = np.array([x for x in 'bgrcmykbgrcmykbgrcmykbgrcmyk'])\n",
    "colors = np.hstack([colors] * 20)\n",
    "\n",
    "#data_clean_cluster = to_be_predicted_data[['cost_first_four_weeks', 'cost']].reset_index(drop=True)\n",
    "to_be_predicted_data_clean_cluster = to_be_predicted_data_google_clean_X.drop('advertiserId', axis=1)#[['cost_first_four_weeks', 'cost']].reset_index(drop=True)\n",
    "#sample = to_be_predicted_data_clean_cluster.sample(frac=0.01)\n",
    "#data_clean_cluster['cost_first_four_weeks'] = np.log(data_clean_cluster['cost_first_four_weeks'])\n",
    "#data_clean_cluster['cost'] = np.log(data_clean_cluster['cost'])\n",
    "#X = StandardScaler().fit_transform(to_be_predicted_data_clean_cluster)\n",
    "# estimate bandwidth for mean shift\n",
    "bandwidth = cluster.estimate_bandwidth(X, quantile=0.3)\n",
    "\n",
    "# connectivity matrix for structured Ward\n",
    "connectivity = kneighbors_graph(to_be_predicted_data_clean_cluster, n_neighbors=10, include_self=False)\n",
    "# make connectivity symmetric\n",
    "connectivity = 0.5 * (connectivity + connectivity.T)\n",
    "\n",
    "# create clustering estimators\n",
    "ms = cluster.MeanShift(bandwidth=bandwidth, bin_seeding=True)\n",
    "two_means = cluster.MiniBatchKMeans(n_clusters=2)\n",
    "ward = cluster.AgglomerativeClustering(n_clusters=2, linkage='ward',\n",
    "                                           connectivity=connectivity)\n",
    "spectral = cluster.SpectralClustering(n_clusters=2,\n",
    "                                          eigen_solver='arpack',\n",
    "                                          affinity=\"nearest_neighbors\")\n",
    "\n",
    "affinity_propagation = cluster.AffinityPropagation(damping=.9,\n",
    "                                                       preference=-200)\n",
    "\n",
    "affinity_propagation.fit(reduced_data)\n",
    "centers = affinity_propagation.cluster_centers_\n",
    "\n",
    "y_pred = affinity_propagation.predict(reduced_data)\n",
    "center_colors = colors[:len(centers)]\n",
    "plt.scatter(reduced_data[:, 0], reduced_data[:, 1], color=colors[y_pred].tolist(), s=20)\n",
    "plt.scatter(centers[:, 0], centers[:, 1], s=100, c=center_colors)\n",
    "\n",
    "plt.xlim(-0.5, 5)\n",
    "plt.ylim(-0.5, 5)\n",
    "plt.xlabel('Cost First Four Weeks')\n",
    "plt.ylabel('Cost ')\n",
    "to_be_predicted_data_clean_cluster.head()"
   ]
  },
  {
   "cell_type": "code",
   "execution_count": 217,
   "metadata": {
    "collapsed": false
   },
   "outputs": [
    {
     "name": "stdout",
     "output_type": "stream",
     "text": [
      "For 2 clusters we get a silhouette coefficient of 0.657\n",
      "For 3 clusters we get a silhouette coefficient of 0.641\n",
      "For 4 clusters we get a silhouette coefficient of 0.493\n",
      "For 5 clusters we get a silhouette coefficient of 0.361\n",
      "For 6 clusters we get a silhouette coefficient of 0.362\n",
      "For 7 clusters we get a silhouette coefficient of 0.359\n",
      "For 8 clusters we get a silhouette coefficient of 0.368\n",
      "For 9 clusters we get a silhouette coefficient of 0.363\n",
      "For 10 clusters we get a silhouette coefficient of 0.367\n"
     ]
    }
   ],
   "source": [
    "# TODO: Apply your clustering algorithm of choice to the reduced data \n",
    "\n",
    "from sklearn.mixture import GMM\n",
    "for n in range(2, 11):\n",
    "    clusterer = GMM(n_components = n, random_state=143)\n",
    "    \n",
    "    clusterer.fit(X)\n",
    "    # Predict the cluster for each data point\n",
    "    preds = clusterer.predict(X)\n",
    "    \n",
    "    # Find the cluster centers\n",
    "    centers = clusterer.means_\n",
    "    # Predict the cluster for each transformed sample data point\n",
    "    # sample_preds = clusterer.predict(pca_samples)\n",
    "    \n",
    "    # Calculate the mean silhouette coefficient for the number of clusters chosen\n",
    "    from sklearn.metrics import silhouette_score\n",
    "    score = silhouette_score(X, preds)\n",
    "    print \"For {} clusters we get a silhouette coefficient of {:0.3f}\".format(n, score)"
   ]
  },
  {
   "cell_type": "code",
   "execution_count": 203,
   "metadata": {
    "collapsed": false
   },
   "outputs": [
    {
     "data": {
      "text/plain": [
       "array([[  1013.17290629,  25754.40507001],\n",
       "       [   164.54906296,   2874.49711245]])"
      ]
     },
     "execution_count": 203,
     "metadata": {},
     "output_type": "execute_result"
    }
   ],
   "source": [
    "clusterer = GMM(n_components = 2, random_state=143)\n",
    "clusterer.fit(data_clean_cluster)\n",
    "# Predict the cluster for each data point\n",
    "preds = clusterer.predict(data_clean_cluster)\n",
    "\n",
    "# Find the cluster centers\n",
    "centers = clusterer.means_\n",
    "centers"
   ]
  },
  {
   "cell_type": "code",
   "execution_count": 208,
   "metadata": {
    "collapsed": true
   },
   "outputs": [],
   "source": [
    "def cluster_results(reduced_data, preds, centers):\n",
    "\t'''\n",
    "\tVisualizes the PCA-reduced cluster data in two dimensions\n",
    "\tAdds cues for cluster centers and student-selected sample data\n",
    "\t'''\n",
    "\n",
    "\tpredictions = pd.DataFrame(preds, columns = ['Cluster'])\n",
    "\tplot_data = pd.concat([predictions, reduced_data], axis = 1)\n",
    "    \n",
    "\t# Generate the cluster plot\n",
    "\tfig, ax = plt.subplots(figsize = (14,8))\n",
    "\n",
    "\t# Color map\n",
    "\tcmap = cm.get_cmap('gist_rainbow')\n",
    "\n",
    "\t# Color the points based on assigned cluster\n",
    "\tfor i, cluster in plot_data.groupby('Cluster'):   \n",
    "\t    cluster.plot(ax = ax, kind = 'scatter', x = reduced_data.columns[0] , y = reduced_data.columns[1], \\\n",
    "\t                 color = cmap((i)*1.0/(len(centers)-1)), label = 'Cluster %i'%(i), s=30);\n",
    "\n",
    "\t# Plot centers with indicators\n",
    "\tfor i, c in enumerate(centers):\n",
    "\t    ax.scatter(x = c[0], y = c[1], color = 'white', edgecolors = 'black', \\\n",
    "\t               alpha = 1, linewidth = 2, marker = 'o', s=200);\n",
    "\t    ax.scatter(x = c[0], y = c[1], marker='$%d$'%(i), alpha = 1, s=100);\n",
    "\n",
    "\t# Plot transformed sample points \n",
    "\t#ax.scatter(x = pca_samples[:,0], y = pca_samples[:,1], \\\n",
    "\t#           s = 150, linewidth = 4, color = 'black', marker = 'x');\n",
    "\n",
    "\t# Set plot title\n",
    "\tax.set_title(\"Cluster Learning on 1000-ish Data - Centroids Marked by Number\\nTransformed Sample Data Marked by Black Cross\");"
   ]
  },
  {
   "cell_type": "code",
   "execution_count": 213,
   "metadata": {
    "collapsed": false
   },
   "outputs": [
    {
     "data": {
      "image/png": "[encoded data removed]",
      "text/plain": [
       "<matplotlib.figure.Figure at 0x119e87b10>"
      ]
     },
     "metadata": {},
     "output_type": "display_data"
    }
   ],
   "source": [
    "# Display the results of the clustering from implementation\n",
    "import matplotlib.cm as cm\n",
    "cluster_results(pd.DataFrame(X, columns=['X', 'Y']), preds, np.log(centers))\n"
   ]
  },
  {
   "cell_type": "markdown",
   "metadata": {},
   "source": [
    "## Now I want to train these roughly 11,000 US data set that have data all throughout its lifetime. I want to predict the cost given all/any of the features."
   ]
  },
  {
   "cell_type": "code",
   "execution_count": null,
   "metadata": {
    "collapsed": false
   },
   "outputs": [],
   "source": [
    "part_comp_data = complete_data[list(set(columns))]"
   ]
  },
  {
   "cell_type": "code",
   "execution_count": null,
   "metadata": {
    "collapsed": false
   },
   "outputs": [],
   "source": [
    "part_comp_data.head()"
   ]
  },
  {
   "cell_type": "code",
   "execution_count": null,
   "metadata": {
    "collapsed": false
   },
   "outputs": [],
   "source": [
    "data_clean = remove_nans(part_comp_data)\n",
    "data_clean = preprocess_features(data_clean)\n",
    "## Remove outliers\n",
    "#outliers = remove_outliers(data)\n",
    "#good_data = data_clean.drop(data_clean.index[outliers]).reset_index(drop = True)\n",
    "#good_data_X = good_data.drop(['costmillicent'], axis =1)\n",
    "#good_data_y =  good_data['costmillicent']\n",
    "print \"The dimensions of the data without outliers now is {}\".format(np.shape(data_clean))\n",
    "data_clean.columns"
   ]
  },
  {
   "cell_type": "code",
   "execution_count": null,
   "metadata": {
    "collapsed": false
   },
   "outputs": [],
   "source": [
    "len(complete_data)"
   ]
  },
  {
   "cell_type": "code",
   "execution_count": null,
   "metadata": {
    "collapsed": false
   },
   "outputs": [],
   "source": [
    "complete_data.columns"
   ]
  },
  {
   "cell_type": "code",
   "execution_count": null,
   "metadata": {
    "collapsed": false
   },
   "outputs": [],
   "source": [
    "set(complete_data.sales_touch)"
   ]
  },
  {
   "cell_type": "code",
   "execution_count": null,
   "metadata": {
    "collapsed": true
   },
   "outputs": [],
   "source": []
  }
 ],
 "metadata": {
  "kernelspec": {
   "display_name": "Python 2",
   "language": "python",
   "name": "python2"
  },
  "language_info": {
   "codemirror_mode": {
    "name": "ipython",
    "version": 2
   },
   "file_extension": ".py",
   "mimetype": "text/x-python",
   "name": "python",
   "nbconvert_exporter": "python",
   "pygments_lexer": "ipython2",
   "version": "2.7.6"
  }
 },
 "nbformat": 4,
 "nbformat_minor": 0
}
